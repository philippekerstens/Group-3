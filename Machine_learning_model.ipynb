{
 "cells": [
  {
   "cell_type": "code",
   "execution_count": 1,
   "id": "d67a2ad3",
   "metadata": {
    "scrolled": true
   },
   "outputs": [],
   "source": [
    "# Before beginning this notebook you will need to add the following code to the query tool in pgAdmin: \n",
    "# ALTER TABLE counties ADD PRIMARY KEY (fips_date); ALTER TABLE hospitals ADD PRIMARY KEY (fips_date);\n",
    "# Additionally, you will need to enter your password into the connection_string variable in the config.py file. \n",
    "# The place holder text is YOURPASSWORDHERE"
   ]
  },
  {
   "cell_type": "code",
   "execution_count": 1,
   "id": "b2653d2c",
   "metadata": {},
   "outputs": [],
   "source": [
    "# Import dependencies\n",
    "import sqlalchemy\n",
    "from sqlalchemy import create_engine\n",
    "from config import connection_string\n",
    "import pandas as pd\n",
    "import psycopg2 as pg"
   ]
  },
  {
   "cell_type": "code",
   "execution_count": 2,
   "id": "3f9b9b40",
   "metadata": {},
   "outputs": [],
   "source": [
    " # Create engine using the database file\n",
    "engine = sqlalchemy.create_engine(connection_string)"
   ]
  },
  {
   "cell_type": "code",
   "execution_count": 3,
   "id": "06bf0e77",
   "metadata": {},
   "outputs": [],
   "source": [
    "dbConnection = engine.connect();"
   ]
  },
  {
   "cell_type": "code",
   "execution_count": 4,
   "id": "0759be27",
   "metadata": {},
   "outputs": [],
   "source": [
    "merged_df = pd.read_sql(\"SELECT * FROM counties INNER JOIN hospitals ON counties.fips_date = hospitals.fips_date\", dbConnection);"
   ]
  },
  {
   "cell_type": "code",
   "execution_count": 53,
   "id": "e1e7e7e2",
   "metadata": {},
   "outputs": [
    {
     "data": {
      "text/html": [
       "<div>\n",
       "<style scoped>\n",
       "    .dataframe tbody tr th:only-of-type {\n",
       "        vertical-align: middle;\n",
       "    }\n",
       "\n",
       "    .dataframe tbody tr th {\n",
       "        vertical-align: top;\n",
       "    }\n",
       "\n",
       "    .dataframe thead th {\n",
       "        text-align: right;\n",
       "    }\n",
       "</style>\n",
       "<table border=\"1\" class=\"dataframe\">\n",
       "  <thead>\n",
       "    <tr style=\"text-align: right;\">\n",
       "      <th></th>\n",
       "      <th>index</th>\n",
       "      <th>fips</th>\n",
       "      <th>collection_week</th>\n",
       "      <th>cases_to_date</th>\n",
       "      <th>deaths_to_date</th>\n",
       "      <th>fips_date</th>\n",
       "      <th>index</th>\n",
       "      <th>fips_code</th>\n",
       "      <th>collection_week</th>\n",
       "      <th>total_beds_7_day_sum</th>\n",
       "      <th>...</th>\n",
       "      <th>total_ped_patients_hospitalized_con_and_sus_covid_7_day_sum</th>\n",
       "      <th>total_ped_patients_hospitalized_con_covid_7_day_sum</th>\n",
       "      <th>inpatient_beds_7_day_sum</th>\n",
       "      <th>total_icu_beds_7_day_sum</th>\n",
       "      <th>total_staffed_adult_icu_beds_7_day_sum</th>\n",
       "      <th>icu_beds_used_7_day_sum</th>\n",
       "      <th>staffed_adult_icu_bed_occupancy_7_day_sum</th>\n",
       "      <th>staffed_icu_adult_patients_con_and_sus_covid_7_day_sum</th>\n",
       "      <th>staffed_icu_adult_patients_con_covid_7_day_sum</th>\n",
       "      <th>fips_date</th>\n",
       "    </tr>\n",
       "  </thead>\n",
       "  <tbody>\n",
       "    <tr>\n",
       "      <th>0</th>\n",
       "      <td>4</td>\n",
       "      <td>1001.0</td>\n",
       "      <td>2020-08-28</td>\n",
       "      <td>9484</td>\n",
       "      <td>161</td>\n",
       "      <td>1001.02020-08-28</td>\n",
       "      <td>4</td>\n",
       "      <td>1001.0</td>\n",
       "      <td>2020-08-28</td>\n",
       "      <td>574</td>\n",
       "      <td>...</td>\n",
       "      <td>0</td>\n",
       "      <td>0</td>\n",
       "      <td>455</td>\n",
       "      <td>42</td>\n",
       "      <td>42</td>\n",
       "      <td>40</td>\n",
       "      <td>40</td>\n",
       "      <td>18</td>\n",
       "      <td>18</td>\n",
       "      <td>1001.02020-08-28</td>\n",
       "    </tr>\n",
       "    <tr>\n",
       "      <th>1</th>\n",
       "      <td>10</td>\n",
       "      <td>1001.0</td>\n",
       "      <td>2020-10-09</td>\n",
       "      <td>12913</td>\n",
       "      <td>191</td>\n",
       "      <td>1001.02020-10-09</td>\n",
       "      <td>10</td>\n",
       "      <td>1001.0</td>\n",
       "      <td>2020-10-09</td>\n",
       "      <td>574</td>\n",
       "      <td>...</td>\n",
       "      <td>0</td>\n",
       "      <td>0</td>\n",
       "      <td>455</td>\n",
       "      <td>42</td>\n",
       "      <td>42</td>\n",
       "      <td>40</td>\n",
       "      <td>40</td>\n",
       "      <td>17</td>\n",
       "      <td>17</td>\n",
       "      <td>1001.02020-10-09</td>\n",
       "    </tr>\n",
       "    <tr>\n",
       "      <th>2</th>\n",
       "      <td>11</td>\n",
       "      <td>1001.0</td>\n",
       "      <td>2020-10-16</td>\n",
       "      <td>13481</td>\n",
       "      <td>196</td>\n",
       "      <td>1001.02020-10-16</td>\n",
       "      <td>11</td>\n",
       "      <td>1001.0</td>\n",
       "      <td>2020-10-16</td>\n",
       "      <td>578</td>\n",
       "      <td>...</td>\n",
       "      <td>0</td>\n",
       "      <td>0</td>\n",
       "      <td>459</td>\n",
       "      <td>42</td>\n",
       "      <td>42</td>\n",
       "      <td>31</td>\n",
       "      <td>31</td>\n",
       "      <td>14</td>\n",
       "      <td>14</td>\n",
       "      <td>1001.02020-10-16</td>\n",
       "    </tr>\n",
       "    <tr>\n",
       "      <th>3</th>\n",
       "      <td>16</td>\n",
       "      <td>1001.0</td>\n",
       "      <td>2020-11-20</td>\n",
       "      <td>17541</td>\n",
       "      <td>260</td>\n",
       "      <td>1001.02020-11-20</td>\n",
       "      <td>16</td>\n",
       "      <td>1001.0</td>\n",
       "      <td>2020-11-20</td>\n",
       "      <td>581</td>\n",
       "      <td>...</td>\n",
       "      <td>0</td>\n",
       "      <td>0</td>\n",
       "      <td>462</td>\n",
       "      <td>42</td>\n",
       "      <td>42</td>\n",
       "      <td>39</td>\n",
       "      <td>39</td>\n",
       "      <td>14</td>\n",
       "      <td>14</td>\n",
       "      <td>1001.02020-11-20</td>\n",
       "    </tr>\n",
       "    <tr>\n",
       "      <th>4</th>\n",
       "      <td>27</td>\n",
       "      <td>1001.0</td>\n",
       "      <td>2021-02-05</td>\n",
       "      <td>40059</td>\n",
       "      <td>498</td>\n",
       "      <td>1001.02021-02-05</td>\n",
       "      <td>27</td>\n",
       "      <td>1001.0</td>\n",
       "      <td>2021-02-05</td>\n",
       "      <td>602</td>\n",
       "      <td>...</td>\n",
       "      <td>0</td>\n",
       "      <td>0</td>\n",
       "      <td>462</td>\n",
       "      <td>42</td>\n",
       "      <td>42</td>\n",
       "      <td>42</td>\n",
       "      <td>42</td>\n",
       "      <td>33</td>\n",
       "      <td>33</td>\n",
       "      <td>1001.02021-02-05</td>\n",
       "    </tr>\n",
       "    <tr>\n",
       "      <th>...</th>\n",
       "      <td>...</td>\n",
       "      <td>...</td>\n",
       "      <td>...</td>\n",
       "      <td>...</td>\n",
       "      <td>...</td>\n",
       "      <td>...</td>\n",
       "      <td>...</td>\n",
       "      <td>...</td>\n",
       "      <td>...</td>\n",
       "      <td>...</td>\n",
       "      <td>...</td>\n",
       "      <td>...</td>\n",
       "      <td>...</td>\n",
       "      <td>...</td>\n",
       "      <td>...</td>\n",
       "      <td>...</td>\n",
       "      <td>...</td>\n",
       "      <td>...</td>\n",
       "      <td>...</td>\n",
       "      <td>...</td>\n",
       "      <td>...</td>\n",
       "    </tr>\n",
       "    <tr>\n",
       "      <th>159059</th>\n",
       "      <td>208900</td>\n",
       "      <td>78020.0</td>\n",
       "      <td>2021-07-02</td>\n",
       "      <td>1759</td>\n",
       "      <td>7</td>\n",
       "      <td>78020.02021-07-02</td>\n",
       "      <td>159854</td>\n",
       "      <td>78020.0</td>\n",
       "      <td>2021-07-02</td>\n",
       "      <td>924</td>\n",
       "      <td>...</td>\n",
       "      <td>0</td>\n",
       "      <td>0</td>\n",
       "      <td>784</td>\n",
       "      <td>56</td>\n",
       "      <td>56</td>\n",
       "      <td>34</td>\n",
       "      <td>34</td>\n",
       "      <td>10</td>\n",
       "      <td>10</td>\n",
       "      <td>78020.02021-07-02</td>\n",
       "    </tr>\n",
       "    <tr>\n",
       "      <th>159060</th>\n",
       "      <td>208902</td>\n",
       "      <td>78020.0</td>\n",
       "      <td>2021-07-16</td>\n",
       "      <td>1772</td>\n",
       "      <td>7</td>\n",
       "      <td>78020.02021-07-16</td>\n",
       "      <td>159856</td>\n",
       "      <td>78020.0</td>\n",
       "      <td>2021-07-16</td>\n",
       "      <td>924</td>\n",
       "      <td>...</td>\n",
       "      <td>0</td>\n",
       "      <td>0</td>\n",
       "      <td>784</td>\n",
       "      <td>56</td>\n",
       "      <td>56</td>\n",
       "      <td>35</td>\n",
       "      <td>35</td>\n",
       "      <td>14</td>\n",
       "      <td>14</td>\n",
       "      <td>78020.02021-07-16</td>\n",
       "    </tr>\n",
       "    <tr>\n",
       "      <th>159061</th>\n",
       "      <td>208904</td>\n",
       "      <td>78020.0</td>\n",
       "      <td>2021-07-30</td>\n",
       "      <td>1831</td>\n",
       "      <td>7</td>\n",
       "      <td>78020.02021-07-30</td>\n",
       "      <td>159858</td>\n",
       "      <td>78020.0</td>\n",
       "      <td>2021-07-30</td>\n",
       "      <td>924</td>\n",
       "      <td>...</td>\n",
       "      <td>0</td>\n",
       "      <td>0</td>\n",
       "      <td>784</td>\n",
       "      <td>56</td>\n",
       "      <td>56</td>\n",
       "      <td>37</td>\n",
       "      <td>37</td>\n",
       "      <td>13</td>\n",
       "      <td>13</td>\n",
       "      <td>78020.02021-07-30</td>\n",
       "    </tr>\n",
       "    <tr>\n",
       "      <th>159062</th>\n",
       "      <td>208913</td>\n",
       "      <td>78020.0</td>\n",
       "      <td>2021-10-01</td>\n",
       "      <td>2293</td>\n",
       "      <td>21</td>\n",
       "      <td>78020.02021-10-01</td>\n",
       "      <td>159867</td>\n",
       "      <td>78020.0</td>\n",
       "      <td>2021-10-01</td>\n",
       "      <td>924</td>\n",
       "      <td>...</td>\n",
       "      <td>0</td>\n",
       "      <td>0</td>\n",
       "      <td>784</td>\n",
       "      <td>56</td>\n",
       "      <td>56</td>\n",
       "      <td>43</td>\n",
       "      <td>43</td>\n",
       "      <td>7</td>\n",
       "      <td>7</td>\n",
       "      <td>78020.02021-10-01</td>\n",
       "    </tr>\n",
       "    <tr>\n",
       "      <th>159063</th>\n",
       "      <td>208915</td>\n",
       "      <td>78020.0</td>\n",
       "      <td>2021-10-15</td>\n",
       "      <td>2317</td>\n",
       "      <td>21</td>\n",
       "      <td>78020.02021-10-15</td>\n",
       "      <td>159869</td>\n",
       "      <td>78020.0</td>\n",
       "      <td>2021-10-15</td>\n",
       "      <td>924</td>\n",
       "      <td>...</td>\n",
       "      <td>0</td>\n",
       "      <td>0</td>\n",
       "      <td>784</td>\n",
       "      <td>56</td>\n",
       "      <td>56</td>\n",
       "      <td>40</td>\n",
       "      <td>40</td>\n",
       "      <td>7</td>\n",
       "      <td>7</td>\n",
       "      <td>78020.02021-10-15</td>\n",
       "    </tr>\n",
       "  </tbody>\n",
       "</table>\n",
       "<p>159064 rows × 26 columns</p>\n",
       "</div>"
      ],
      "text/plain": [
       "         index     fips collection_week  cases_to_date  deaths_to_date  \\\n",
       "0            4   1001.0      2020-08-28           9484             161   \n",
       "1           10   1001.0      2020-10-09          12913             191   \n",
       "2           11   1001.0      2020-10-16          13481             196   \n",
       "3           16   1001.0      2020-11-20          17541             260   \n",
       "4           27   1001.0      2021-02-05          40059             498   \n",
       "...        ...      ...             ...            ...             ...   \n",
       "159059  208900  78020.0      2021-07-02           1759               7   \n",
       "159060  208902  78020.0      2021-07-16           1772               7   \n",
       "159061  208904  78020.0      2021-07-30           1831               7   \n",
       "159062  208913  78020.0      2021-10-01           2293              21   \n",
       "159063  208915  78020.0      2021-10-15           2317              21   \n",
       "\n",
       "                fips_date   index fips_code collection_week  \\\n",
       "0        1001.02020-08-28       4    1001.0      2020-08-28   \n",
       "1        1001.02020-10-09      10    1001.0      2020-10-09   \n",
       "2        1001.02020-10-16      11    1001.0      2020-10-16   \n",
       "3        1001.02020-11-20      16    1001.0      2020-11-20   \n",
       "4        1001.02021-02-05      27    1001.0      2021-02-05   \n",
       "...                   ...     ...       ...             ...   \n",
       "159059  78020.02021-07-02  159854   78020.0      2021-07-02   \n",
       "159060  78020.02021-07-16  159856   78020.0      2021-07-16   \n",
       "159061  78020.02021-07-30  159858   78020.0      2021-07-30   \n",
       "159062  78020.02021-10-01  159867   78020.0      2021-10-01   \n",
       "159063  78020.02021-10-15  159869   78020.0      2021-10-15   \n",
       "\n",
       "        total_beds_7_day_sum  ...  \\\n",
       "0                        574  ...   \n",
       "1                        574  ...   \n",
       "2                        578  ...   \n",
       "3                        581  ...   \n",
       "4                        602  ...   \n",
       "...                      ...  ...   \n",
       "159059                   924  ...   \n",
       "159060                   924  ...   \n",
       "159061                   924  ...   \n",
       "159062                   924  ...   \n",
       "159063                   924  ...   \n",
       "\n",
       "        total_ped_patients_hospitalized_con_and_sus_covid_7_day_sum  \\\n",
       "0                                                       0             \n",
       "1                                                       0             \n",
       "2                                                       0             \n",
       "3                                                       0             \n",
       "4                                                       0             \n",
       "...                                                   ...             \n",
       "159059                                                  0             \n",
       "159060                                                  0             \n",
       "159061                                                  0             \n",
       "159062                                                  0             \n",
       "159063                                                  0             \n",
       "\n",
       "        total_ped_patients_hospitalized_con_covid_7_day_sum  \\\n",
       "0                                                       0     \n",
       "1                                                       0     \n",
       "2                                                       0     \n",
       "3                                                       0     \n",
       "4                                                       0     \n",
       "...                                                   ...     \n",
       "159059                                                  0     \n",
       "159060                                                  0     \n",
       "159061                                                  0     \n",
       "159062                                                  0     \n",
       "159063                                                  0     \n",
       "\n",
       "        inpatient_beds_7_day_sum  total_icu_beds_7_day_sum  \\\n",
       "0                            455                        42   \n",
       "1                            455                        42   \n",
       "2                            459                        42   \n",
       "3                            462                        42   \n",
       "4                            462                        42   \n",
       "...                          ...                       ...   \n",
       "159059                       784                        56   \n",
       "159060                       784                        56   \n",
       "159061                       784                        56   \n",
       "159062                       784                        56   \n",
       "159063                       784                        56   \n",
       "\n",
       "        total_staffed_adult_icu_beds_7_day_sum  icu_beds_used_7_day_sum  \\\n",
       "0                                           42                       40   \n",
       "1                                           42                       40   \n",
       "2                                           42                       31   \n",
       "3                                           42                       39   \n",
       "4                                           42                       42   \n",
       "...                                        ...                      ...   \n",
       "159059                                      56                       34   \n",
       "159060                                      56                       35   \n",
       "159061                                      56                       37   \n",
       "159062                                      56                       43   \n",
       "159063                                      56                       40   \n",
       "\n",
       "        staffed_adult_icu_bed_occupancy_7_day_sum  \\\n",
       "0                                              40   \n",
       "1                                              40   \n",
       "2                                              31   \n",
       "3                                              39   \n",
       "4                                              42   \n",
       "...                                           ...   \n",
       "159059                                         34   \n",
       "159060                                         35   \n",
       "159061                                         37   \n",
       "159062                                         43   \n",
       "159063                                         40   \n",
       "\n",
       "        staffed_icu_adult_patients_con_and_sus_covid_7_day_sum  \\\n",
       "0                                                      18        \n",
       "1                                                      17        \n",
       "2                                                      14        \n",
       "3                                                      14        \n",
       "4                                                      33        \n",
       "...                                                   ...        \n",
       "159059                                                 10        \n",
       "159060                                                 14        \n",
       "159061                                                 13        \n",
       "159062                                                  7        \n",
       "159063                                                  7        \n",
       "\n",
       "        staffed_icu_adult_patients_con_covid_7_day_sum          fips_date  \n",
       "0                                                   18   1001.02020-08-28  \n",
       "1                                                   17   1001.02020-10-09  \n",
       "2                                                   14   1001.02020-10-16  \n",
       "3                                                   14   1001.02020-11-20  \n",
       "4                                                   33   1001.02021-02-05  \n",
       "...                                                ...                ...  \n",
       "159059                                              10  78020.02021-07-02  \n",
       "159060                                              14  78020.02021-07-16  \n",
       "159061                                              13  78020.02021-07-30  \n",
       "159062                                               7  78020.02021-10-01  \n",
       "159063                                               7  78020.02021-10-15  \n",
       "\n",
       "[159064 rows x 26 columns]"
      ]
     },
     "execution_count": 53,
     "metadata": {},
     "output_type": "execute_result"
    }
   ],
   "source": [
    "merged_df"
   ]
  },
  {
   "cell_type": "markdown",
   "id": "e783ea1e",
   "metadata": {},
   "source": [
    "# Linear Regression"
   ]
  },
  {
   "cell_type": "markdown",
   "id": "738f042f",
   "metadata": {},
   "source": [
    "Linear regression model to predict number of icu beds needs for COVID patient for facilities. "
   ]
  },
  {
   "cell_type": "code",
   "execution_count": 6,
   "id": "6fb9297a",
   "metadata": {},
   "outputs": [],
   "source": [
    "import pandas as pd\n",
    "from pathlib import Path\n",
    "import matplotlib.pyplot as plt\n",
    "from sklearn.linear_model import LinearRegression"
   ]
  },
  {
   "cell_type": "code",
   "execution_count": 7,
   "id": "a5950aa5",
   "metadata": {},
   "outputs": [
    {
     "data": {
      "image/png": "[encoded data removed]",
      "text/plain": [
       "<Figure size 432x288 with 1 Axes>"
      ]
     },
     "metadata": {
      "needs_background": "light"
     },
     "output_type": "display_data"
    }
   ],
   "source": [
    "# Build scatter plot \n",
    "plt.scatter(merged_df.all_adult_hospital_inpatient_bed_occupied_7_day_sum, merged_df.total_ped_patients_hospitalized_con_and_sus_covid_7_day_sum)\n",
    "plt.xlabel('All Adult Hospital Inpatient Bed Occupied')\n",
    "plt.ylabel('Total Adult Patients Hospitalized Confirmed and Suspected COVID')\n",
    "\n",
    "plt.show()"
   ]
  },
  {
   "cell_type": "code",
   "execution_count": 8,
   "id": "28fd21b1",
   "metadata": {},
   "outputs": [],
   "source": [
    "X = merged_df.all_adult_hospital_inpatient_bed_occupied_7_day_sum.values.reshape(-1, 1)"
   ]
  },
  {
   "cell_type": "code",
   "execution_count": 9,
   "id": "44e1ec08",
   "metadata": {},
   "outputs": [
    {
     "data": {
      "text/plain": [
       "array([[346],\n",
       "       [349],\n",
       "       [321],\n",
       "       [333],\n",
       "       [430]], dtype=int64)"
      ]
     },
     "execution_count": 9,
     "metadata": {},
     "output_type": "execute_result"
    }
   ],
   "source": [
    "X[:5]"
   ]
  },
  {
   "cell_type": "code",
   "execution_count": 10,
   "id": "0c0f7de9",
   "metadata": {},
   "outputs": [
    {
     "data": {
      "text/plain": [
       "(159064, 1)"
      ]
     },
     "execution_count": 10,
     "metadata": {},
     "output_type": "execute_result"
    }
   ],
   "source": [
    "X.shape"
   ]
  },
  {
   "cell_type": "code",
   "execution_count": 11,
   "id": "8fae8cf9",
   "metadata": {},
   "outputs": [],
   "source": [
    "y = merged_df.total_ped_patients_hospitalized_con_and_sus_covid_7_day_sum"
   ]
  },
  {
   "cell_type": "code",
   "execution_count": 12,
   "id": "052d852a",
   "metadata": {},
   "outputs": [],
   "source": [
    "model = LinearRegression()"
   ]
  },
  {
   "cell_type": "code",
   "execution_count": 133,
   "id": "c2982a16",
   "metadata": {},
   "outputs": [
    {
     "data": {
      "text/plain": [
       "LinearRegression()"
      ]
     },
     "execution_count": 133,
     "metadata": {},
     "output_type": "execute_result"
    }
   ],
   "source": [
    "model.fit(X, y)"
   ]
  },
  {
   "cell_type": "code",
   "execution_count": 136,
   "id": "f46553d6",
   "metadata": {},
   "outputs": [
    {
     "name": "stdout",
     "output_type": "stream",
     "text": [
      "[192.50733029 253.24282442 267.83508461 ...  68.51760454  86.07829679\n",
      "  86.49220165]\n"
     ]
    }
   ],
   "source": [
    "y_pred = model.predict(X)\n",
    "print(y_pred)"
   ]
  },
  {
   "cell_type": "code",
   "execution_count": 15,
   "id": "379addfc",
   "metadata": {},
   "outputs": [
    {
     "data": {
      "image/png": "[encoded data removed]",
      "text/plain": [
       "<Figure size 432x288 with 1 Axes>"
      ]
     },
     "metadata": {
      "needs_background": "light"
     },
     "output_type": "display_data"
    }
   ],
   "source": [
    "plt.scatter(X, y)\n",
    "plt.plot(X, y_pred, color='red')\n",
    "plt.show()"
   ]
  },
  {
   "cell_type": "code",
   "execution_count": 16,
   "id": "545b7f30",
   "metadata": {},
   "outputs": [
    {
     "name": "stdout",
     "output_type": "stream",
     "text": [
      "[0.00091506]\n",
      "0.5278289244721284\n"
     ]
    }
   ],
   "source": [
    "print(model.coef_)\n",
    "print(model.intercept_)"
   ]
  },
  {
   "cell_type": "markdown",
   "id": "8c8c32c1",
   "metadata": {},
   "source": [
    "# Linear Regression "
   ]
  },
  {
   "cell_type": "markdown",
   "id": "06245fbd",
   "metadata": {},
   "source": [
    "Using linear regression model to predict deaths through cases and adult patients convicted covid in a week. "
   ]
  },
  {
   "cell_type": "code",
   "execution_count": 106,
   "id": "e64cc24a",
   "metadata": {},
   "outputs": [
    {
     "data": {
      "image/png": "[encoded data removed]",
      "text/plain": [
       "<Figure size 432x288 with 1 Axes>"
      ]
     },
     "metadata": {
      "needs_background": "light"
     },
     "output_type": "display_data"
    }
   ],
   "source": [
    "# Build scatter plot to inspect the relationship\n",
    "plt.scatter(merged_df.cases_to_date\t, merged_df.deaths_to_date)\n",
    "plt.xlabel('Cases in 7 days')\n",
    "plt.ylabel('Deaths in 7 days')\n",
    "plt.show()"
   ]
  },
  {
   "cell_type": "code",
   "execution_count": 107,
   "id": "6b108b2f",
   "metadata": {},
   "outputs": [],
   "source": [
    "X = merged_df.total_icu_beds_7_day_sum.values.reshape(-1, 1)"
   ]
  },
  {
   "cell_type": "code",
   "execution_count": 108,
   "id": "d73b0d17",
   "metadata": {},
   "outputs": [
    {
     "data": {
      "text/plain": [
       "array([[42],\n",
       "       [42],\n",
       "       [42],\n",
       "       [42],\n",
       "       [42]], dtype=int64)"
      ]
     },
     "execution_count": 108,
     "metadata": {},
     "output_type": "execute_result"
    }
   ],
   "source": [
    "X[:5]"
   ]
  },
  {
   "cell_type": "code",
   "execution_count": 109,
   "id": "807b4a10",
   "metadata": {},
   "outputs": [
    {
     "data": {
      "text/plain": [
       "(159064, 1)"
      ]
     },
     "execution_count": 109,
     "metadata": {},
     "output_type": "execute_result"
    }
   ],
   "source": [
    "X.shape"
   ]
  },
  {
   "cell_type": "code",
   "execution_count": 110,
   "id": "8c6f22ab",
   "metadata": {},
   "outputs": [],
   "source": [
    "y = merged_df.icu_beds_used_7_day_sum"
   ]
  },
  {
   "cell_type": "code",
   "execution_count": 111,
   "id": "a225faf4",
   "metadata": {},
   "outputs": [],
   "source": [
    "model = LinearRegression()"
   ]
  },
  {
   "cell_type": "code",
   "execution_count": 112,
   "id": "582a77e4",
   "metadata": {},
   "outputs": [
    {
     "data": {
      "text/plain": [
       "LinearRegression()"
      ]
     },
     "execution_count": 112,
     "metadata": {},
     "output_type": "execute_result"
    }
   ],
   "source": [
    "model.fit(X, y)"
   ]
  },
  {
   "cell_type": "code",
   "execution_count": 113,
   "id": "d21f54fd",
   "metadata": {},
   "outputs": [
    {
     "name": "stdout",
     "output_type": "stream",
     "text": [
      "[40.75523473 40.75523473 40.75523473 ... 49.67472683 49.67472683\n",
      " 49.67472683]\n"
     ]
    }
   ],
   "source": [
    "y_pred = model.predict(X)\n",
    "print(y_pred)"
   ]
  },
  {
   "cell_type": "code",
   "execution_count": 114,
   "id": "f629ff86",
   "metadata": {},
   "outputs": [
    {
     "data": {
      "image/png": "[encoded data removed]",
      "text/plain": [
       "<Figure size 432x288 with 1 Axes>"
      ]
     },
     "metadata": {
      "needs_background": "light"
     },
     "output_type": "display_data"
    }
   ],
   "source": [
    "plt.scatter(X, y)\n",
    "plt.plot(X, y_pred, color='red')\n",
    "plt.show()"
   ]
  },
  {
   "cell_type": "code",
   "execution_count": 115,
   "id": "45298a2f",
   "metadata": {},
   "outputs": [
    {
     "name": "stdout",
     "output_type": "stream",
     "text": [
      "[0.63710658]\n",
      "13.996758434995513\n"
     ]
    }
   ],
   "source": [
    "print(model.coef_)\n",
    "print(model.intercept_)"
   ]
  },
  {
   "cell_type": "code",
   "execution_count": 119,
   "id": "c28756f5",
   "metadata": {},
   "outputs": [
    {
     "data": {
      "text/html": [
       "<div>\n",
       "<style scoped>\n",
       "    .dataframe tbody tr th:only-of-type {\n",
       "        vertical-align: middle;\n",
       "    }\n",
       "\n",
       "    .dataframe tbody tr th {\n",
       "        vertical-align: top;\n",
       "    }\n",
       "\n",
       "    .dataframe thead th {\n",
       "        text-align: right;\n",
       "    }\n",
       "</style>\n",
       "<table border=\"1\" class=\"dataframe\">\n",
       "  <thead>\n",
       "    <tr style=\"text-align: right;\">\n",
       "      <th></th>\n",
       "      <th>cases_to_date</th>\n",
       "      <th>staffed_icu_adult_patients_con_covid_7_day_sum</th>\n",
       "    </tr>\n",
       "  </thead>\n",
       "  <tbody>\n",
       "    <tr>\n",
       "      <th>0</th>\n",
       "      <td>9484</td>\n",
       "      <td>18</td>\n",
       "    </tr>\n",
       "    <tr>\n",
       "      <th>1</th>\n",
       "      <td>12913</td>\n",
       "      <td>17</td>\n",
       "    </tr>\n",
       "    <tr>\n",
       "      <th>2</th>\n",
       "      <td>13481</td>\n",
       "      <td>14</td>\n",
       "    </tr>\n",
       "    <tr>\n",
       "      <th>3</th>\n",
       "      <td>17541</td>\n",
       "      <td>14</td>\n",
       "    </tr>\n",
       "    <tr>\n",
       "      <th>4</th>\n",
       "      <td>40059</td>\n",
       "      <td>33</td>\n",
       "    </tr>\n",
       "  </tbody>\n",
       "</table>\n",
       "</div>"
      ],
      "text/plain": [
       "   cases_to_date  staffed_icu_adult_patients_con_covid_7_day_sum\n",
       "0           9484                                              18\n",
       "1          12913                                              17\n",
       "2          13481                                              14\n",
       "3          17541                                              14\n",
       "4          40059                                              33"
      ]
     },
     "execution_count": 119,
     "metadata": {},
     "output_type": "execute_result"
    }
   ],
   "source": [
    "X = merged_df[['cases_to_date', 'staffed_icu_adult_patients_con_covid_7_day_sum']]\n",
    "Y = merged_df['deaths_to_date']\n",
    "X.head()"
   ]
  },
  {
   "cell_type": "code",
   "execution_count": 121,
   "id": "ae5d5c58",
   "metadata": {},
   "outputs": [
    {
     "data": {
      "text/html": [
       "<div>\n",
       "<style scoped>\n",
       "    .dataframe tbody tr th:only-of-type {\n",
       "        vertical-align: middle;\n",
       "    }\n",
       "\n",
       "    .dataframe tbody tr th {\n",
       "        vertical-align: top;\n",
       "    }\n",
       "\n",
       "    .dataframe thead th {\n",
       "        text-align: right;\n",
       "    }\n",
       "</style>\n",
       "<table border=\"1\" class=\"dataframe\">\n",
       "  <thead>\n",
       "    <tr style=\"text-align: right;\">\n",
       "      <th></th>\n",
       "      <th>cases_to_date</th>\n",
       "      <th>staffed_icu_adult_patients_con_covid_7_day_sum</th>\n",
       "    </tr>\n",
       "  </thead>\n",
       "  <tbody>\n",
       "    <tr>\n",
       "      <th>109063</th>\n",
       "      <td>30694</td>\n",
       "      <td>0</td>\n",
       "    </tr>\n",
       "    <tr>\n",
       "      <th>59884</th>\n",
       "      <td>50008</td>\n",
       "      <td>19</td>\n",
       "    </tr>\n",
       "    <tr>\n",
       "      <th>133790</th>\n",
       "      <td>6564</td>\n",
       "      <td>0</td>\n",
       "    </tr>\n",
       "    <tr>\n",
       "      <th>122081</th>\n",
       "      <td>228282</td>\n",
       "      <td>26</td>\n",
       "    </tr>\n",
       "    <tr>\n",
       "      <th>120792</th>\n",
       "      <td>3941</td>\n",
       "      <td>0</td>\n",
       "    </tr>\n",
       "    <tr>\n",
       "      <th>...</th>\n",
       "      <td>...</td>\n",
       "      <td>...</td>\n",
       "    </tr>\n",
       "    <tr>\n",
       "      <th>68044</th>\n",
       "      <td>167172</td>\n",
       "      <td>563</td>\n",
       "    </tr>\n",
       "    <tr>\n",
       "      <th>31698</th>\n",
       "      <td>81922</td>\n",
       "      <td>72</td>\n",
       "    </tr>\n",
       "    <tr>\n",
       "      <th>94071</th>\n",
       "      <td>105238</td>\n",
       "      <td>112</td>\n",
       "    </tr>\n",
       "    <tr>\n",
       "      <th>78550</th>\n",
       "      <td>11488</td>\n",
       "      <td>0</td>\n",
       "    </tr>\n",
       "    <tr>\n",
       "      <th>75910</th>\n",
       "      <td>8803</td>\n",
       "      <td>0</td>\n",
       "    </tr>\n",
       "  </tbody>\n",
       "</table>\n",
       "<p>127251 rows × 2 columns</p>\n",
       "</div>"
      ],
      "text/plain": [
       "        cases_to_date  staffed_icu_adult_patients_con_covid_7_day_sum\n",
       "109063          30694                                               0\n",
       "59884           50008                                              19\n",
       "133790           6564                                               0\n",
       "122081         228282                                              26\n",
       "120792           3941                                               0\n",
       "...               ...                                             ...\n",
       "68044          167172                                             563\n",
       "31698           81922                                              72\n",
       "94071          105238                                             112\n",
       "78550           11488                                               0\n",
       "75910            8803                                               0\n",
       "\n",
       "[127251 rows x 2 columns]"
      ]
     },
     "execution_count": 121,
     "metadata": {},
     "output_type": "execute_result"
    }
   ],
   "source": [
    "from sklearn.model_selection import train_test_split\n",
    "x_train, x_test,y_train,y_test = train_test_split(X,Y,test_size =0.2)\n",
    "x_train"
   ]
  },
  {
   "cell_type": "code",
   "execution_count": 122,
   "id": "b0cf8459",
   "metadata": {},
   "outputs": [],
   "source": [
    "from sklearn.linear_model import LinearRegression\n",
    "clf = LinearRegression()"
   ]
  },
  {
   "cell_type": "code",
   "execution_count": 123,
   "id": "c160dfcf",
   "metadata": {},
   "outputs": [
    {
     "data": {
      "text/plain": [
       "LinearRegression()"
      ]
     },
     "execution_count": 123,
     "metadata": {},
     "output_type": "execute_result"
    }
   ],
   "source": [
    "clf.fit(x_train,y_train)"
   ]
  },
  {
   "cell_type": "code",
   "execution_count": 124,
   "id": "fc646e9e",
   "metadata": {},
   "outputs": [
    {
     "data": {
      "text/plain": [
       "array([ 245.61216744, 6158.87977996,  245.4406366 , ..., 1233.41826598,\n",
       "        105.22008195,  390.57203381])"
      ]
     },
     "execution_count": 124,
     "metadata": {},
     "output_type": "execute_result"
    }
   ],
   "source": [
    "clf.predict(x_test)"
   ]
  },
  {
   "cell_type": "code",
   "execution_count": 125,
   "id": "f904d6e8",
   "metadata": {},
   "outputs": [
    {
     "data": {
      "text/plain": [
       "0.9034636711880965"
      ]
     },
     "execution_count": 125,
     "metadata": {},
     "output_type": "execute_result"
    }
   ],
   "source": [
    "clf.score(x_test,y_test)"
   ]
  },
  {
   "cell_type": "code",
   "execution_count": null,
   "id": "891994f9",
   "metadata": {},
   "outputs": [],
   "source": []
  }
 ],
 "metadata": {
  "kernelspec": {
   "display_name": "mlenv",
   "language": "python",
   "name": "mlenv"
  },
  "language_info": {
   "codemirror_mode": {
    "name": "ipython",
    "version": 3
   },
   "file_extension": ".py",
   "mimetype": "text/x-python",
   "name": "python",
   "nbconvert_exporter": "python",
   "pygments_lexer": "ipython3",
   "version": "3.7.10"
  }
 },
 "nbformat": 4,
 "nbformat_minor": 5
}
