{
 "cells": [
  {
   "cell_type": "code",
   "execution_count": 1,
   "id": "d67a2ad3",
   "metadata": {
    "scrolled": true
   },
   "outputs": [],
   "source": [
    "# Before beginning this notebook you will need to add the following code to the query tool in pgAdmin: \n",
    "# ALTER TABLE counties ADD PRIMARY KEY (fips_date); ALTER TABLE hospitals ADD PRIMARY KEY (fips_date);\n",
    "# Additionally, you will need to enter your password into the connection_string variable in the config.py file. \n",
    "# The place holder text is YOURPASSWORDHERE"
   ]
  },
  {
   "cell_type": "code",
   "execution_count": null,
   "id": "b2653d2c",
   "metadata": {},
   "outputs": [],
   "source": [
    "# Import dependencies\n",
    "import sqlalchemy\n",
    "from sqlalchemy import create_engine\n",
    "from config import connection_string\n",
    "import pandas as pd\n",
    "import psycopg2 as pg"
   ]
  },
  {
   "cell_type": "code",
   "execution_count": 2,
   "id": "3f9b9b40",
   "metadata": {},
   "outputs": [],
   "source": [
    " # Create engine using the database file\n",
    "engine = sqlalchemy.create_engine(connection_string)"
   ]
  },
  {
   "cell_type": "code",
   "execution_count": 3,
   "id": "408676a0",
   "metadata": {},
   "outputs": [],
   "source": [
    "# Reflect an existing databade into a new model\n",
    "Base = automap_base()"
   ]
  },
  {
   "cell_type": "code",
   "execution_count": 4,
   "id": "f3232228",
   "metadata": {},
   "outputs": [],
   "source": [
    "# Reflect the tables\n",
    "Base.prepare(engine, reflect=True)"
   ]
  },
  {
   "cell_type": "code",
   "execution_count": 5,
   "id": "06bf0e77",
   "metadata": {},
   "outputs": [],
   "source": [
    "dbConnection = engine.connect();"
   ]
  },
  {
   "cell_type": "code",
   "execution_count": null,
   "id": "0759be27",
   "metadata": {},
   "outputs": [],
   "source": [
    "merged_df = pd.read_sql(\"SELECT * FROM counties INNER JOIN hospitals ON counties.fips_date = hospitals.fips_date\", dbConnection);"
   ]
  }
 ],
 "metadata": {
  "kernelspec": {
   "display_name": "mlenv",
   "language": "python",
   "name": "mlenv"
  },
  "language_info": {
   "codemirror_mode": {
    "name": "ipython",
    "version": 3
   },
   "file_extension": ".py",
   "mimetype": "text/x-python",
   "name": "python",
   "nbconvert_exporter": "python",
   "pygments_lexer": "ipython3",
   "version": "3.7.10"
  }
 },
 "nbformat": 4,
 "nbformat_minor": 5
}
