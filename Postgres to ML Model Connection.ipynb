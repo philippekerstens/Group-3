{
 "cells": [
  {
   "cell_type": "code",
   "execution_count": 1,
   "id": "b1a4b0fc",
   "metadata": {
    "scrolled": true
   },
   "outputs": [],
   "source": [
    "# Python SQL toolkit and Object Relational Mapper\n",
    "import sqlalchemy\n",
    "from sqlalchemy.ext.automap import automap_base\n",
    "from sqlalchemy.orm import Session\n",
    "from sqlalchemy import create_engine\n",
    "from config import connection_string\n",
    "import pandas as pd\n",
    "import psycopg2 as pg"
   ]
  },
  {
   "cell_type": "code",
   "execution_count": 2,
   "id": "76ee0c38",
   "metadata": {},
   "outputs": [],
   "source": [
    " # Create engine using the database file\n",
    "engine = sqlalchemy.create_engine(connection_string)"
   ]
  },
  {
   "cell_type": "code",
   "execution_count": 3,
   "id": "4346eb1e",
   "metadata": {},
   "outputs": [],
   "source": [
    "# Reflect an existing databade into a new model\n",
    "Base = automap_base()"
   ]
  },
  {
   "cell_type": "code",
   "execution_count": 4,
   "id": "450784d2",
   "metadata": {},
   "outputs": [],
   "source": [
    "# Reflect the tables\n",
    "Base.prepare(engine, reflect=True)"
   ]
  },
  {
   "cell_type": "code",
   "execution_count": 5,
   "id": "68bf6229",
   "metadata": {},
   "outputs": [],
   "source": [
    "dbConnection = engine.connect();"
   ]
  },
  {
   "cell_type": "code",
   "execution_count": 6,
   "id": "0eca8bfa",
   "metadata": {},
   "outputs": [
    {
     "data": {
      "text/plain": [
       "[]"
      ]
     },
     "execution_count": 6,
     "metadata": {},
     "output_type": "execute_result"
    }
   ],
   "source": [
    "Base.classes.keys()"
   ]
  },
  {
   "cell_type": "code",
   "execution_count": null,
   "id": "326ca8e1",
   "metadata": {},
   "outputs": [],
   "source": [
    "# Save references to each table\n",
    "counties = Base.classes.counties\n",
    "hospitals = Base.classes.hospitals"
   ]
  },
  {
   "cell_type": "code",
   "execution_count": null,
   "id": "4b6082e4",
   "metadata": {},
   "outputs": [],
   "source": [
    "session = Session(engine)"
   ]
  },
  {
   "cell_type": "code",
   "execution_count": null,
   "id": "99544406",
   "metadata": {},
   "outputs": [],
   "source": []
  }
 ],
 "metadata": {
  "kernelspec": {
   "display_name": "mlenv",
   "language": "python",
   "name": "mlenv"
  },
  "language_info": {
   "codemirror_mode": {
    "name": "ipython",
    "version": 3
   },
   "file_extension": ".py",
   "mimetype": "text/x-python",
   "name": "python",
   "nbconvert_exporter": "python",
   "pygments_lexer": "ipython3",
   "version": "3.7.10"
  }
 },
 "nbformat": 4,
 "nbformat_minor": 5
}
