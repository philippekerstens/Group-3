{
 "cells": [
  {
   "cell_type": "code",
   "execution_count": 1,
   "id": "6d7cb9a1",
   "metadata": {
    "scrolled": true
   },
   "outputs": [],
   "source": [
    "# Python SQL toolkit and Object Relational Mapper\n",
    "import sqlalchemy\n",
    "from sqlalchemy.ext.automap import automap_base\n",
    "from sqlalchemy.orm import Session\n",
    "from sqlalchemy import create_engine\n",
    "from config import connection_string\n",
    "import pandas as pd\n",
    "import psycopg2 as pg"
   ]
  },
  {
   "cell_type": "code",
   "execution_count": 2,
   "id": "643aa7cb",
   "metadata": {},
   "outputs": [],
   "source": [
    " # Create engine using the database file\n",
    "engine = sqlalchemy.create_engine(connection_string)"
   ]
  },
  {
   "cell_type": "code",
   "execution_count": 3,
   "id": "b8b0f33c",
   "metadata": {},
   "outputs": [],
   "source": [
    "# Reflect an existing databade into a new model\n",
    "Base = automap_base()"
   ]
  },
  {
   "cell_type": "code",
   "execution_count": 4,
   "id": "8b0bd3c7",
   "metadata": {},
   "outputs": [],
   "source": [
    "# Reflect the tables\n",
    "Base.prepare(engine, reflect=True)"
   ]
  },
  {
   "cell_type": "code",
   "execution_count": 5,
   "id": "91a58f8b",
   "metadata": {},
   "outputs": [],
   "source": [
    "dbConnection = engine.connect();"
   ]
  },
  {
   "cell_type": "code",
   "execution_count": null,
   "id": "bb060640",
   "metadata": {},
   "outputs": [],
   "source": [
    "merged_df = pd.read_sql(\"SELECT * FROM counties INNER JOIN hospitals ON counties.fips_date = hospitals.fips_date\", dbConnection);"
   ]
  },
  {
   "cell_type": "code",
   "execution_count": 6,
   "id": "b4185323",
   "metadata": {},
   "outputs": [
    {
     "data": {
      "text/plain": [
       "[]"
      ]
     },
     "execution_count": 6,
     "metadata": {},
     "output_type": "execute_result"
    }
   ],
   "source": [
    "Base.classes.keys()"
   ]
  },
  {
   "cell_type": "code",
   "execution_count": null,
   "id": "0e01ee59",
   "metadata": {},
   "outputs": [],
   "source": [
    "# Save references to each table\n",
    "counties = Base.classes.counties\n",
    "hospitals = Base.classes.hospitals"
   ]
  },
  {
   "cell_type": "code",
   "execution_count": null,
   "id": "48e70302",
   "metadata": {},
   "outputs": [],
   "source": [
    "session = Session(engine)"
   ]
  },
  {
   "cell_type": "code",
   "execution_count": null,
   "id": "a1df2b32",
   "metadata": {},
   "outputs": [],
   "source": []
  }
 ],
 "metadata": {
  "kernelspec": {
   "display_name": "mlenv",
   "language": "python",
   "name": "mlenv"
  },
  "language_info": {
   "codemirror_mode": {
    "name": "ipython",
    "version": 3
   },
   "file_extension": ".py",
   "mimetype": "text/x-python",
   "name": "python",
   "nbconvert_exporter": "python",
   "pygments_lexer": "ipython3",
   "version": "3.7.10"
  }
 },
 "nbformat": 4,
 "nbformat_minor": 5
}
