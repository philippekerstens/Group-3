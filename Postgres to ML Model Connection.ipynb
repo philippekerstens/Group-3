{
 "cells": [
  {
   "cell_type": "code",
   "execution_count": null,
   "id": "fbcf36bd",
   "metadata": {
    "scrolled": true
   },
   "outputs": [],
   "source": [
    "# Before beginning this notebook you will need to add the following code to the query tool in pgAdmin: \n",
    "# ALTER TABLE counties ADD PRIMARY KEY (fips_date); ALTER TABLE hospitals ADD PRIMARY KEY (fips_date); ALTER TABLE vaccinations ADD PRIMARY KEY (fips_date);\n",
    "# Additionally, you will need to enter your password into the connection_string variable in the config.py file. \n",
    "# The place holder text is YOURPASSWORDHERE"
   ]
  },
  {
   "cell_type": "code",
   "execution_count": 6,
   "id": "70ee2c31",
   "metadata": {},
   "outputs": [],
   "source": [
    "# Import dependencies\n",
    "import sqlalchemy\n",
    "from sqlalchemy import create_engine\n",
    "import config\n",
    "import pandas as pd\n",
    "import psycopg2 as pg\n",
    "import numpy as np"
   ]
  },
  {
   "cell_type": "code",
   "execution_count": 7,
   "id": "a953e0ff",
   "metadata": {},
   "outputs": [],
   "source": [
    " # Create engine using the database file\n",
    "engine = sqlalchemy.create_engine(config.connection_string)"
   ]
  },
  {
   "cell_type": "code",
   "execution_count": 8,
   "id": "6393195c",
   "metadata": {},
   "outputs": [],
   "source": [
    "# Create the connection\n",
    "dbConnection = engine.connect();"
   ]
  },
  {
   "cell_type": "code",
   "execution_count": 9,
   "id": "70b46419",
   "metadata": {},
   "outputs": [],
   "source": [
    "# Join counties and hospitals tables into dataframe\n",
    "merged_df = pd.read_sql(\"SELECT * FROM counties JOIN hospitals ON counties.fips_date = hospitals.fips_date\", dbConnection);"
   ]
  },
  {
   "cell_type": "code",
   "execution_count": 10,
   "id": "8ba34ae3",
   "metadata": {},
   "outputs": [
    {
     "ename": "ProgrammingError",
     "evalue": "(psycopg2.errors.UndefinedTable) 오류:  \"vaccinations\" 이름의 릴레이션(relation)이 없습니다\nLINE 1: SELECT * FROM vaccinations\n                      ^\n\n[SQL: SELECT * FROM vaccinations]\n(Background on this error at: http://sqlalche.me/e/14/f405)",
     "output_type": "error",
     "traceback": [
      "\u001b[1;31m---------------------------------------------------------------------------\u001b[0m",
      "\u001b[1;31mUndefinedTable\u001b[0m                            Traceback (most recent call last)",
      "\u001b[1;32m~\\anaconda3\\envs\\mlenv\\lib\\site-packages\\sqlalchemy\\engine\\base.py\u001b[0m in \u001b[0;36m_execute_context\u001b[1;34m(self, dialect, constructor, statement, parameters, execution_options, *args, **kw)\u001b[0m\n\u001b[0;32m   1705\u001b[0m                     self.dialect.do_execute(\n\u001b[1;32m-> 1706\u001b[1;33m                         \u001b[0mcursor\u001b[0m\u001b[1;33m,\u001b[0m \u001b[0mstatement\u001b[0m\u001b[1;33m,\u001b[0m \u001b[0mparameters\u001b[0m\u001b[1;33m,\u001b[0m \u001b[0mcontext\u001b[0m\u001b[1;33m\u001b[0m\u001b[1;33m\u001b[0m\u001b[0m\n\u001b[0m\u001b[0;32m   1707\u001b[0m                     )\n",
      "\u001b[1;32m~\\anaconda3\\envs\\mlenv\\lib\\site-packages\\sqlalchemy\\engine\\default.py\u001b[0m in \u001b[0;36mdo_execute\u001b[1;34m(self, cursor, statement, parameters, context)\u001b[0m\n\u001b[0;32m    691\u001b[0m     \u001b[1;32mdef\u001b[0m \u001b[0mdo_execute\u001b[0m\u001b[1;33m(\u001b[0m\u001b[0mself\u001b[0m\u001b[1;33m,\u001b[0m \u001b[0mcursor\u001b[0m\u001b[1;33m,\u001b[0m \u001b[0mstatement\u001b[0m\u001b[1;33m,\u001b[0m \u001b[0mparameters\u001b[0m\u001b[1;33m,\u001b[0m \u001b[0mcontext\u001b[0m\u001b[1;33m=\u001b[0m\u001b[1;32mNone\u001b[0m\u001b[1;33m)\u001b[0m\u001b[1;33m:\u001b[0m\u001b[1;33m\u001b[0m\u001b[1;33m\u001b[0m\u001b[0m\n\u001b[1;32m--> 692\u001b[1;33m         \u001b[0mcursor\u001b[0m\u001b[1;33m.\u001b[0m\u001b[0mexecute\u001b[0m\u001b[1;33m(\u001b[0m\u001b[0mstatement\u001b[0m\u001b[1;33m,\u001b[0m \u001b[0mparameters\u001b[0m\u001b[1;33m)\u001b[0m\u001b[1;33m\u001b[0m\u001b[1;33m\u001b[0m\u001b[0m\n\u001b[0m\u001b[0;32m    693\u001b[0m \u001b[1;33m\u001b[0m\u001b[0m\n",
      "\u001b[1;31mUndefinedTable\u001b[0m: 오류:  \"vaccinations\" 이름의 릴레이션(relation)이 없습니다\nLINE 1: SELECT * FROM vaccinations\n                      ^\n",
      "\nThe above exception was the direct cause of the following exception:\n",
      "\u001b[1;31mProgrammingError\u001b[0m                          Traceback (most recent call last)",
      "\u001b[1;32m<ipython-input-10-8dfcf4b57ede>\u001b[0m in \u001b[0;36m<module>\u001b[1;34m\u001b[0m\n\u001b[0;32m      1\u001b[0m \u001b[1;31m# Create dataframe of vaccinations table\u001b[0m\u001b[1;33m\u001b[0m\u001b[1;33m\u001b[0m\u001b[1;33m\u001b[0m\u001b[0m\n\u001b[1;32m----> 2\u001b[1;33m \u001b[0mvaccinations_df\u001b[0m \u001b[1;33m=\u001b[0m \u001b[0mpd\u001b[0m\u001b[1;33m.\u001b[0m\u001b[0mread_sql\u001b[0m\u001b[1;33m(\u001b[0m\u001b[1;34m\"SELECT * FROM vaccinations\"\u001b[0m\u001b[1;33m,\u001b[0m \u001b[0mdbConnection\u001b[0m\u001b[1;33m)\u001b[0m\u001b[1;33m;\u001b[0m\u001b[1;33m\u001b[0m\u001b[1;33m\u001b[0m\u001b[0m\n\u001b[0m",
      "\u001b[1;32m~\\anaconda3\\envs\\mlenv\\lib\\site-packages\\pandas\\io\\sql.py\u001b[0m in \u001b[0;36mread_sql\u001b[1;34m(sql, con, index_col, coerce_float, params, parse_dates, columns, chunksize)\u001b[0m\n\u001b[0;32m    525\u001b[0m             \u001b[0mcoerce_float\u001b[0m\u001b[1;33m=\u001b[0m\u001b[0mcoerce_float\u001b[0m\u001b[1;33m,\u001b[0m\u001b[1;33m\u001b[0m\u001b[1;33m\u001b[0m\u001b[0m\n\u001b[0;32m    526\u001b[0m             \u001b[0mparse_dates\u001b[0m\u001b[1;33m=\u001b[0m\u001b[0mparse_dates\u001b[0m\u001b[1;33m,\u001b[0m\u001b[1;33m\u001b[0m\u001b[1;33m\u001b[0m\u001b[0m\n\u001b[1;32m--> 527\u001b[1;33m             \u001b[0mchunksize\u001b[0m\u001b[1;33m=\u001b[0m\u001b[0mchunksize\u001b[0m\u001b[1;33m,\u001b[0m\u001b[1;33m\u001b[0m\u001b[1;33m\u001b[0m\u001b[0m\n\u001b[0m\u001b[0;32m    528\u001b[0m         )\n\u001b[0;32m    529\u001b[0m \u001b[1;33m\u001b[0m\u001b[0m\n",
      "\u001b[1;32m~\\anaconda3\\envs\\mlenv\\lib\\site-packages\\pandas\\io\\sql.py\u001b[0m in \u001b[0;36mread_query\u001b[1;34m(self, sql, index_col, coerce_float, parse_dates, params, chunksize)\u001b[0m\n\u001b[0;32m   1306\u001b[0m         \u001b[0margs\u001b[0m \u001b[1;33m=\u001b[0m \u001b[0m_convert_params\u001b[0m\u001b[1;33m(\u001b[0m\u001b[0msql\u001b[0m\u001b[1;33m,\u001b[0m \u001b[0mparams\u001b[0m\u001b[1;33m)\u001b[0m\u001b[1;33m\u001b[0m\u001b[1;33m\u001b[0m\u001b[0m\n\u001b[0;32m   1307\u001b[0m \u001b[1;33m\u001b[0m\u001b[0m\n\u001b[1;32m-> 1308\u001b[1;33m         \u001b[0mresult\u001b[0m \u001b[1;33m=\u001b[0m \u001b[0mself\u001b[0m\u001b[1;33m.\u001b[0m\u001b[0mexecute\u001b[0m\u001b[1;33m(\u001b[0m\u001b[1;33m*\u001b[0m\u001b[0margs\u001b[0m\u001b[1;33m)\u001b[0m\u001b[1;33m\u001b[0m\u001b[1;33m\u001b[0m\u001b[0m\n\u001b[0m\u001b[0;32m   1309\u001b[0m         \u001b[0mcolumns\u001b[0m \u001b[1;33m=\u001b[0m \u001b[0mresult\u001b[0m\u001b[1;33m.\u001b[0m\u001b[0mkeys\u001b[0m\u001b[1;33m(\u001b[0m\u001b[1;33m)\u001b[0m\u001b[1;33m\u001b[0m\u001b[1;33m\u001b[0m\u001b[0m\n\u001b[0;32m   1310\u001b[0m \u001b[1;33m\u001b[0m\u001b[0m\n",
      "\u001b[1;32m~\\anaconda3\\envs\\mlenv\\lib\\site-packages\\pandas\\io\\sql.py\u001b[0m in \u001b[0;36mexecute\u001b[1;34m(self, *args, **kwargs)\u001b[0m\n\u001b[0;32m   1174\u001b[0m     \u001b[1;32mdef\u001b[0m \u001b[0mexecute\u001b[0m\u001b[1;33m(\u001b[0m\u001b[0mself\u001b[0m\u001b[1;33m,\u001b[0m \u001b[1;33m*\u001b[0m\u001b[0margs\u001b[0m\u001b[1;33m,\u001b[0m \u001b[1;33m**\u001b[0m\u001b[0mkwargs\u001b[0m\u001b[1;33m)\u001b[0m\u001b[1;33m:\u001b[0m\u001b[1;33m\u001b[0m\u001b[1;33m\u001b[0m\u001b[0m\n\u001b[0;32m   1175\u001b[0m         \u001b[1;34m\"\"\"Simple passthrough to SQLAlchemy connectable\"\"\"\u001b[0m\u001b[1;33m\u001b[0m\u001b[1;33m\u001b[0m\u001b[0m\n\u001b[1;32m-> 1176\u001b[1;33m         \u001b[1;32mreturn\u001b[0m \u001b[0mself\u001b[0m\u001b[1;33m.\u001b[0m\u001b[0mconnectable\u001b[0m\u001b[1;33m.\u001b[0m\u001b[0mexecution_options\u001b[0m\u001b[1;33m(\u001b[0m\u001b[1;33m)\u001b[0m\u001b[1;33m.\u001b[0m\u001b[0mexecute\u001b[0m\u001b[1;33m(\u001b[0m\u001b[1;33m*\u001b[0m\u001b[0margs\u001b[0m\u001b[1;33m,\u001b[0m \u001b[1;33m**\u001b[0m\u001b[0mkwargs\u001b[0m\u001b[1;33m)\u001b[0m\u001b[1;33m\u001b[0m\u001b[1;33m\u001b[0m\u001b[0m\n\u001b[0m\u001b[0;32m   1177\u001b[0m \u001b[1;33m\u001b[0m\u001b[0m\n\u001b[0;32m   1178\u001b[0m     def read_table(\n",
      "\u001b[1;32m~\\anaconda3\\envs\\mlenv\\lib\\site-packages\\sqlalchemy\\engine\\base.py\u001b[0m in \u001b[0;36mexecute\u001b[1;34m(self, statement, *multiparams, **params)\u001b[0m\n\u001b[0;32m   1188\u001b[0m                 \u001b[0mparams\u001b[0m\u001b[1;33m,\u001b[0m\u001b[1;33m\u001b[0m\u001b[1;33m\u001b[0m\u001b[0m\n\u001b[0;32m   1189\u001b[0m                 \u001b[0m_EMPTY_EXECUTION_OPTS\u001b[0m\u001b[1;33m,\u001b[0m\u001b[1;33m\u001b[0m\u001b[1;33m\u001b[0m\u001b[0m\n\u001b[1;32m-> 1190\u001b[1;33m                 \u001b[0mfuture\u001b[0m\u001b[1;33m=\u001b[0m\u001b[1;32mFalse\u001b[0m\u001b[1;33m,\u001b[0m\u001b[1;33m\u001b[0m\u001b[1;33m\u001b[0m\u001b[0m\n\u001b[0m\u001b[0;32m   1191\u001b[0m             )\n\u001b[0;32m   1192\u001b[0m \u001b[1;33m\u001b[0m\u001b[0m\n",
      "\u001b[1;32m~\\anaconda3\\envs\\mlenv\\lib\\site-packages\\sqlalchemy\\engine\\base.py\u001b[0m in \u001b[0;36m_exec_driver_sql\u001b[1;34m(self, statement, multiparams, params, execution_options, future)\u001b[0m\n\u001b[0;32m   1489\u001b[0m             \u001b[0mexecution_options\u001b[0m\u001b[1;33m,\u001b[0m\u001b[1;33m\u001b[0m\u001b[1;33m\u001b[0m\u001b[0m\n\u001b[0;32m   1490\u001b[0m             \u001b[0mstatement\u001b[0m\u001b[1;33m,\u001b[0m\u001b[1;33m\u001b[0m\u001b[1;33m\u001b[0m\u001b[0m\n\u001b[1;32m-> 1491\u001b[1;33m             \u001b[0mdistilled_parameters\u001b[0m\u001b[1;33m,\u001b[0m\u001b[1;33m\u001b[0m\u001b[1;33m\u001b[0m\u001b[0m\n\u001b[0m\u001b[0;32m   1492\u001b[0m         )\n\u001b[0;32m   1493\u001b[0m \u001b[1;33m\u001b[0m\u001b[0m\n",
      "\u001b[1;32m~\\anaconda3\\envs\\mlenv\\lib\\site-packages\\sqlalchemy\\engine\\base.py\u001b[0m in \u001b[0;36m_execute_context\u001b[1;34m(self, dialect, constructor, statement, parameters, execution_options, *args, **kw)\u001b[0m\n\u001b[0;32m   1747\u001b[0m         \u001b[1;32mexcept\u001b[0m \u001b[0mBaseException\u001b[0m \u001b[1;32mas\u001b[0m \u001b[0me\u001b[0m\u001b[1;33m:\u001b[0m\u001b[1;33m\u001b[0m\u001b[1;33m\u001b[0m\u001b[0m\n\u001b[0;32m   1748\u001b[0m             self._handle_dbapi_exception(\n\u001b[1;32m-> 1749\u001b[1;33m                 \u001b[0me\u001b[0m\u001b[1;33m,\u001b[0m \u001b[0mstatement\u001b[0m\u001b[1;33m,\u001b[0m \u001b[0mparameters\u001b[0m\u001b[1;33m,\u001b[0m \u001b[0mcursor\u001b[0m\u001b[1;33m,\u001b[0m \u001b[0mcontext\u001b[0m\u001b[1;33m\u001b[0m\u001b[1;33m\u001b[0m\u001b[0m\n\u001b[0m\u001b[0;32m   1750\u001b[0m             )\n\u001b[0;32m   1751\u001b[0m \u001b[1;33m\u001b[0m\u001b[0m\n",
      "\u001b[1;32m~\\anaconda3\\envs\\mlenv\\lib\\site-packages\\sqlalchemy\\engine\\base.py\u001b[0m in \u001b[0;36m_handle_dbapi_exception\u001b[1;34m(self, e, statement, parameters, cursor, context)\u001b[0m\n\u001b[0;32m   1928\u001b[0m             \u001b[1;32melif\u001b[0m \u001b[0mshould_wrap\u001b[0m\u001b[1;33m:\u001b[0m\u001b[1;33m\u001b[0m\u001b[1;33m\u001b[0m\u001b[0m\n\u001b[0;32m   1929\u001b[0m                 util.raise_(\n\u001b[1;32m-> 1930\u001b[1;33m                     \u001b[0msqlalchemy_exception\u001b[0m\u001b[1;33m,\u001b[0m \u001b[0mwith_traceback\u001b[0m\u001b[1;33m=\u001b[0m\u001b[0mexc_info\u001b[0m\u001b[1;33m[\u001b[0m\u001b[1;36m2\u001b[0m\u001b[1;33m]\u001b[0m\u001b[1;33m,\u001b[0m \u001b[0mfrom_\u001b[0m\u001b[1;33m=\u001b[0m\u001b[0me\u001b[0m\u001b[1;33m\u001b[0m\u001b[1;33m\u001b[0m\u001b[0m\n\u001b[0m\u001b[0;32m   1931\u001b[0m                 )\n\u001b[0;32m   1932\u001b[0m             \u001b[1;32melse\u001b[0m\u001b[1;33m:\u001b[0m\u001b[1;33m\u001b[0m\u001b[1;33m\u001b[0m\u001b[0m\n",
      "\u001b[1;32m~\\anaconda3\\envs\\mlenv\\lib\\site-packages\\sqlalchemy\\util\\compat.py\u001b[0m in \u001b[0;36mraise_\u001b[1;34m(***failed resolving arguments***)\u001b[0m\n\u001b[0;32m    209\u001b[0m \u001b[1;33m\u001b[0m\u001b[0m\n\u001b[0;32m    210\u001b[0m         \u001b[1;32mtry\u001b[0m\u001b[1;33m:\u001b[0m\u001b[1;33m\u001b[0m\u001b[1;33m\u001b[0m\u001b[0m\n\u001b[1;32m--> 211\u001b[1;33m             \u001b[1;32mraise\u001b[0m \u001b[0mexception\u001b[0m\u001b[1;33m\u001b[0m\u001b[1;33m\u001b[0m\u001b[0m\n\u001b[0m\u001b[0;32m    212\u001b[0m         \u001b[1;32mfinally\u001b[0m\u001b[1;33m:\u001b[0m\u001b[1;33m\u001b[0m\u001b[1;33m\u001b[0m\u001b[0m\n\u001b[0;32m    213\u001b[0m             \u001b[1;31m# credit to\u001b[0m\u001b[1;33m\u001b[0m\u001b[1;33m\u001b[0m\u001b[1;33m\u001b[0m\u001b[0m\n",
      "\u001b[1;32m~\\anaconda3\\envs\\mlenv\\lib\\site-packages\\sqlalchemy\\engine\\base.py\u001b[0m in \u001b[0;36m_execute_context\u001b[1;34m(self, dialect, constructor, statement, parameters, execution_options, *args, **kw)\u001b[0m\n\u001b[0;32m   1704\u001b[0m                 \u001b[1;32mif\u001b[0m \u001b[1;32mnot\u001b[0m \u001b[0mevt_handled\u001b[0m\u001b[1;33m:\u001b[0m\u001b[1;33m\u001b[0m\u001b[1;33m\u001b[0m\u001b[0m\n\u001b[0;32m   1705\u001b[0m                     self.dialect.do_execute(\n\u001b[1;32m-> 1706\u001b[1;33m                         \u001b[0mcursor\u001b[0m\u001b[1;33m,\u001b[0m \u001b[0mstatement\u001b[0m\u001b[1;33m,\u001b[0m \u001b[0mparameters\u001b[0m\u001b[1;33m,\u001b[0m \u001b[0mcontext\u001b[0m\u001b[1;33m\u001b[0m\u001b[1;33m\u001b[0m\u001b[0m\n\u001b[0m\u001b[0;32m   1707\u001b[0m                     )\n\u001b[0;32m   1708\u001b[0m \u001b[1;33m\u001b[0m\u001b[0m\n",
      "\u001b[1;32m~\\anaconda3\\envs\\mlenv\\lib\\site-packages\\sqlalchemy\\engine\\default.py\u001b[0m in \u001b[0;36mdo_execute\u001b[1;34m(self, cursor, statement, parameters, context)\u001b[0m\n\u001b[0;32m    690\u001b[0m \u001b[1;33m\u001b[0m\u001b[0m\n\u001b[0;32m    691\u001b[0m     \u001b[1;32mdef\u001b[0m \u001b[0mdo_execute\u001b[0m\u001b[1;33m(\u001b[0m\u001b[0mself\u001b[0m\u001b[1;33m,\u001b[0m \u001b[0mcursor\u001b[0m\u001b[1;33m,\u001b[0m \u001b[0mstatement\u001b[0m\u001b[1;33m,\u001b[0m \u001b[0mparameters\u001b[0m\u001b[1;33m,\u001b[0m \u001b[0mcontext\u001b[0m\u001b[1;33m=\u001b[0m\u001b[1;32mNone\u001b[0m\u001b[1;33m)\u001b[0m\u001b[1;33m:\u001b[0m\u001b[1;33m\u001b[0m\u001b[1;33m\u001b[0m\u001b[0m\n\u001b[1;32m--> 692\u001b[1;33m         \u001b[0mcursor\u001b[0m\u001b[1;33m.\u001b[0m\u001b[0mexecute\u001b[0m\u001b[1;33m(\u001b[0m\u001b[0mstatement\u001b[0m\u001b[1;33m,\u001b[0m \u001b[0mparameters\u001b[0m\u001b[1;33m)\u001b[0m\u001b[1;33m\u001b[0m\u001b[1;33m\u001b[0m\u001b[0m\n\u001b[0m\u001b[0;32m    693\u001b[0m \u001b[1;33m\u001b[0m\u001b[0m\n\u001b[0;32m    694\u001b[0m     \u001b[1;32mdef\u001b[0m \u001b[0mdo_execute_no_params\u001b[0m\u001b[1;33m(\u001b[0m\u001b[0mself\u001b[0m\u001b[1;33m,\u001b[0m \u001b[0mcursor\u001b[0m\u001b[1;33m,\u001b[0m \u001b[0mstatement\u001b[0m\u001b[1;33m,\u001b[0m \u001b[0mcontext\u001b[0m\u001b[1;33m=\u001b[0m\u001b[1;32mNone\u001b[0m\u001b[1;33m)\u001b[0m\u001b[1;33m:\u001b[0m\u001b[1;33m\u001b[0m\u001b[1;33m\u001b[0m\u001b[0m\n",
      "\u001b[1;31mProgrammingError\u001b[0m: (psycopg2.errors.UndefinedTable) 오류:  \"vaccinations\" 이름의 릴레이션(relation)이 없습니다\nLINE 1: SELECT * FROM vaccinations\n                      ^\n\n[SQL: SELECT * FROM vaccinations]\n(Background on this error at: http://sqlalche.me/e/14/f405)"
     ]
    }
   ],
   "source": [
    "# Create dataframe of vaccinations table\n",
    "vaccinations_df = pd.read_sql(\"SELECT * FROM vaccinations\", dbConnection);"
   ]
  },
  {
   "cell_type": "code",
   "execution_count": null,
   "id": "2463afcd",
   "metadata": {},
   "outputs": [],
   "source": [
    "# Create a list of the dataframes\n",
    "dfs = [merged_df, vaccinations_df]"
   ]
  },
  {
   "cell_type": "code",
   "execution_count": null,
   "id": "e6e0fa09",
   "metadata": {},
   "outputs": [],
   "source": [
    "merged_df"
   ]
  },
  {
   "cell_type": "code",
   "execution_count": null,
   "id": "4b762f4f",
   "metadata": {},
   "outputs": [],
   "source": [
    "for col in merged_df.columns:\n",
    "    print(col)"
   ]
  },
  {
   "cell_type": "code",
   "execution_count": null,
   "id": "c69ff3a8",
   "metadata": {},
   "outputs": [],
   "source": [
    "column_numbers = [x for x in range(merged_df.shape[1])]"
   ]
  },
  {
   "cell_type": "code",
   "execution_count": null,
   "id": "79450ebe",
   "metadata": {},
   "outputs": [],
   "source": [
    "column_numbers .remove(0) #removing column integer index 0\n",
    "merged_df = merged_df.iloc[:, column_numbers] #return all columns except the 0th column\n",
    "merged_df"
   ]
  },
  {
   "cell_type": "code",
   "execution_count": null,
   "id": "5a0de4fb",
   "metadata": {},
   "outputs": [],
   "source": [
    "column_numbers = [x for x in range(merged_df.shape[1])]\n",
    "column_numbers .remove(2) #removing column integer index 0\n",
    "merged_df = merged_df.iloc[:, column_numbers] #return all columns except the 0th column\n",
    "merged_df"
   ]
  },
  {
   "cell_type": "code",
   "execution_count": null,
   "id": "76178631",
   "metadata": {},
   "outputs": [],
   "source": [
    "column_numbers = [x for x in range(merged_df.shape[1])]\n",
    "column_numbers .remove(2) #removing column integer index 0\n",
    "merged_df = merged_df.iloc[:, column_numbers] #return all columns except the 0th column\n",
    "merged_df"
   ]
  },
  {
   "cell_type": "code",
   "execution_count": null,
   "id": "285b43f0",
   "metadata": {},
   "outputs": [],
   "source": [
    "for col in merged_df.columns:\n",
    "    print(col)"
   ]
  },
  {
   "cell_type": "code",
   "execution_count": null,
   "id": "a045ab89",
   "metadata": {},
   "outputs": [],
   "source": [
    "# Create ratio columns for bed usage (ICU and inpatient)"
   ]
  },
  {
   "cell_type": "code",
   "execution_count": null,
   "id": "dc1b59ab",
   "metadata": {},
   "outputs": [],
   "source": [
    "for col in vaccinations_df.columns:\n",
    "    print(col)"
   ]
  },
  {
   "cell_type": "code",
   "execution_count": null,
   "id": "83540892",
   "metadata": {},
   "outputs": [],
   "source": [
    "ml_ready_df = merged_df.merge(vaccinations_df, how='inner', on='fips_date')\n",
    "ml_ready_df"
   ]
  },
  {
   "cell_type": "code",
   "execution_count": null,
   "id": "007dc32b",
   "metadata": {},
   "outputs": [],
   "source": [
    "for col in ml_ready_df.columns:\n",
    "    print(col)"
   ]
  },
  {
   "cell_type": "code",
   "execution_count": null,
   "id": "ae47f7f9",
   "metadata": {},
   "outputs": [],
   "source": [
    "ml_ready_df = ml_ready_df.drop('index', 1)\n",
    "ml_ready_df"
   ]
  },
  {
   "cell_type": "code",
   "execution_count": null,
   "id": "0659883d",
   "metadata": {},
   "outputs": [],
   "source": [
    "ml_ready_df[\"Percentage_inpatient_beds_used\"] = ml_ready_df[\"inpatient_beds_used_7_day_sum\"]/ml_ready_df[\"inpatient_beds_7_day_sum\"]\n",
    "ml_ready_df"
   ]
  },
  {
   "cell_type": "code",
   "execution_count": null,
   "id": "777a86e5",
   "metadata": {},
   "outputs": [],
   "source": [
    "ml_ready_df[\"Percentage_ICU_beds_used\"] = ml_ready_df[\"icu_beds_used_7_day_sum\"]/ml_ready_df[\"total_icu_beds_7_day_sum\"]\n",
    "ml_ready_df"
   ]
  },
  {
   "cell_type": "code",
   "execution_count": null,
   "id": "22a66700",
   "metadata": {},
   "outputs": [],
   "source": [
    "ml_ready_df[\"total_patients_hospitalized_con_and_sus_covid_7_day_sum\"] = ml_ready_df[\"total_adult_patients_hospitalized_con_and_sus_covid_7_day_sum\"]+ml_ready_df[\"total_ped_patients_hospitalized_con_and_sus_covid_7_day_sum\"]\n",
    "ml_ready_df"
   ]
  },
  {
   "cell_type": "code",
   "execution_count": null,
   "id": "054d631d",
   "metadata": {
    "scrolled": false
   },
   "outputs": [],
   "source": [
    "ml_ready_df[\"total_patients_hospitalized_con_covid_7_day_sum\"] = ml_ready_df[\"total_adult_patients_hospitalized_con_covid_7_day_sum\"]+ml_ready_df[\"total_ped_patients_hospitalized_con_covid_7_day_sum\"]\n",
    "ml_ready_df"
   ]
  },
  {
   "cell_type": "code",
   "execution_count": null,
   "id": "defe6eab",
   "metadata": {},
   "outputs": [],
   "source": [
    "ml_ready_df.replace([np.inf, -np.inf], np.nan)"
   ]
  },
  {
   "cell_type": "code",
   "execution_count": null,
   "id": "547a5a60",
   "metadata": {},
   "outputs": [],
   "source": [
    "ml_ready_df.dropna()"
   ]
  },
  {
   "cell_type": "code",
   "execution_count": null,
   "id": "e558ccb9",
   "metadata": {},
   "outputs": [],
   "source": [
    "ml_ready_df.dtypes"
   ]
  },
  {
   "cell_type": "code",
   "execution_count": null,
   "id": "3e8a3831",
   "metadata": {},
   "outputs": [],
   "source": [
    "ml_ready_df = ml_ready_df.astype({'fips_code': 'int64'})"
   ]
  },
  {
   "cell_type": "code",
   "execution_count": null,
   "id": "23ae1222",
   "metadata": {},
   "outputs": [],
   "source": [
    "ml_ready_df.dtypes"
   ]
  },
  {
   "cell_type": "code",
   "execution_count": null,
   "id": "26e67206",
   "metadata": {},
   "outputs": [],
   "source": [
    "ml_ready_df.sort_values(by=['fips_date'], inplace=True)"
   ]
  },
  {
   "cell_type": "markdown",
   "id": "080068b4",
   "metadata": {},
   "source": [
    "Data Exploration Charts"
   ]
  },
  {
   "cell_type": "code",
   "execution_count": null,
   "id": "fca2d8e8",
   "metadata": {},
   "outputs": [],
   "source": [
    "multnomah_df = ml_ready_df[ml_ready_df[\"fips_code\"] == 41051]\n",
    "multnomah_df"
   ]
  },
  {
   "cell_type": "code",
   "execution_count": null,
   "id": "3b555690",
   "metadata": {},
   "outputs": [],
   "source": [
    "%matplotlib inline"
   ]
  },
  {
   "cell_type": "code",
   "execution_count": null,
   "id": "5af0bc01",
   "metadata": {},
   "outputs": [],
   "source": [
    "import matplotlib.pyplot as plt"
   ]
  },
  {
   "cell_type": "code",
   "execution_count": null,
   "id": "aa925d9a",
   "metadata": {},
   "outputs": [],
   "source": [
    "multnomah_df.plot.bar(x=\"collection_week\", y=\"Percentage_inpatient_beds_used\", figsize=(20, 20))\n",
    "plt.ylim(top=1.0)\n",
    "plt.ylim(bottom=0.4)\n",
    "plt.savefig('Percentage of Inpatient Beds Used Multnomah County')\n",
    "plt.show()"
   ]
  },
  {
   "cell_type": "code",
   "execution_count": null,
   "id": "9a3be2fc",
   "metadata": {},
   "outputs": [],
   "source": [
    "multnomah_df.plot.bar(x=\"collection_week\", y=\"cases_to_date\", figsize=(20, 20))\n",
    "plt.savefig('Cases to Date Multnomah County')\n",
    "plt.show()"
   ]
  },
  {
   "cell_type": "code",
   "execution_count": null,
   "id": "828830a4",
   "metadata": {},
   "outputs": [],
   "source": [
    "multnomah_df.plot.bar(x=\"collection_week\", y=\"deaths_to_date\", figsize=(20, 20))\n",
    "plt.savefig('Deaths to Date Multnomah County')\n",
    "plt.show()"
   ]
  },
  {
   "cell_type": "code",
   "execution_count": null,
   "id": "ae537949",
   "metadata": {},
   "outputs": [],
   "source": [
    "multnomah_df.plot.bar(x=\"collection_week\", y=\"Series_Complete_Pop_Pct\", figsize=(20, 20))\n",
    "plt.savefig('Percent of Population Fully Vaccinated Multnomah County')\n",
    "plt.show()"
   ]
  },
  {
   "cell_type": "markdown",
   "id": "15997e10",
   "metadata": {},
   "source": [
    "# ML_model"
   ]
  },
  {
   "cell_type": "code",
   "execution_count": 11,
   "id": "1dc0038b",
   "metadata": {},
   "outputs": [
    {
     "ename": "NameError",
     "evalue": "name 'ml_ready_df' is not defined",
     "output_type": "error",
     "traceback": [
      "\u001b[1;31m---------------------------------------------------------------------------\u001b[0m",
      "\u001b[1;31mNameError\u001b[0m                                 Traceback (most recent call last)",
      "\u001b[1;32m<ipython-input-11-f1445c29aeff>\u001b[0m in \u001b[0;36m<module>\u001b[1;34m\u001b[0m\n\u001b[0;32m      1\u001b[0m \u001b[0mat_capacity\u001b[0m \u001b[1;33m=\u001b[0m \u001b[1;33m[\u001b[0m\u001b[1;33m]\u001b[0m\u001b[1;33m\u001b[0m\u001b[1;33m\u001b[0m\u001b[0m\n\u001b[1;32m----> 2\u001b[1;33m \u001b[1;32mfor\u001b[0m \u001b[0mvalue\u001b[0m \u001b[1;32min\u001b[0m \u001b[0mml_ready_df\u001b[0m\u001b[1;33m[\u001b[0m\u001b[1;34m'Percentage_ICU_beds_used'\u001b[0m\u001b[1;33m]\u001b[0m\u001b[1;33m:\u001b[0m\u001b[1;33m\u001b[0m\u001b[1;33m\u001b[0m\u001b[0m\n\u001b[0m\u001b[0;32m      3\u001b[0m     \u001b[1;32mif\u001b[0m \u001b[0mvalue\u001b[0m \u001b[1;33m>\u001b[0m\u001b[1;36m0.85\u001b[0m\u001b[1;33m:\u001b[0m\u001b[1;33m\u001b[0m\u001b[1;33m\u001b[0m\u001b[0m\n\u001b[0;32m      4\u001b[0m         \u001b[0mat_capacity\u001b[0m\u001b[1;33m.\u001b[0m\u001b[0mappend\u001b[0m\u001b[1;33m(\u001b[0m\u001b[1;34m\"1\"\u001b[0m\u001b[1;33m)\u001b[0m\u001b[1;33m\u001b[0m\u001b[1;33m\u001b[0m\u001b[0m\n\u001b[0;32m      5\u001b[0m     \u001b[1;32melse\u001b[0m \u001b[1;33m:\u001b[0m\u001b[1;33m\u001b[0m\u001b[1;33m\u001b[0m\u001b[0m\n",
      "\u001b[1;31mNameError\u001b[0m: name 'ml_ready_df' is not defined"
     ]
    }
   ],
   "source": [
    "at_capacity = []\n",
    "for value in ml_ready_df['Percentage_ICU_beds_used']:\n",
    "    if value >0.85:\n",
    "        at_capacity.append(\"1\")\n",
    "    else :\n",
    "        at_capacity.append(\"0\")\n",
    "ml_ready_df[\"at_capacity\"] = at_capacity\n",
    "ml_ready_df[\"at_capacity\"].astype(str).astype(float)\n",
    "ml_ready_df"
   ]
  },
  {
   "cell_type": "code",
   "execution_count": null,
   "id": "837d4d5c",
   "metadata": {},
   "outputs": [],
   "source": [
    "import numpy as np\n",
    "ml_ready_df = ml_ready_df.replace([np.inf, -np.inf], np.nan)\n",
    "ml_ready_df.dropna(inplace=True)"
   ]
  },
  {
   "cell_type": "code",
   "execution_count": null,
   "id": "d6fdfa10",
   "metadata": {},
   "outputs": [],
   "source": [
    "ml_ready_df.drop(['fips_date', 'fips_code', 'collection_week'], axis=1, inplace=True)\n",
    "ml_ready_df"
   ]
  },
  {
   "cell_type": "code",
   "execution_count": null,
   "id": "5212873e",
   "metadata": {},
   "outputs": [],
   "source": [
    "for column in ml_ready_df.columns:\n",
    "    print(f\"column {column} has {ml_ready_df[column].isnull().sum()} null values\")"
   ]
  },
  {
   "cell_type": "code",
   "execution_count": null,
   "id": "67deb59d",
   "metadata": {},
   "outputs": [],
   "source": [
    "ml_ready_df = ml_ready_df.dropna()"
   ]
  },
  {
   "cell_type": "code",
   "execution_count": null,
   "id": "5adb7d1c",
   "metadata": {},
   "outputs": [],
   "source": [
    "for column in ml_ready_df.columns:\n",
    "    print(f\"column {column} has {ml_ready_df[column].isnull().sum()} null values\")"
   ]
  },
  {
   "cell_type": "code",
   "execution_count": null,
   "id": "d588dba4",
   "metadata": {},
   "outputs": [],
   "source": [
    "ml_ready_df.duplicated().sum()"
   ]
  },
  {
   "cell_type": "code",
   "execution_count": null,
   "id": "1656a45b",
   "metadata": {},
   "outputs": [],
   "source": [
    "ml_ready_df.dtypes"
   ]
  },
  {
   "cell_type": "code",
   "execution_count": null,
   "id": "4744f0d6",
   "metadata": {},
   "outputs": [],
   "source": [
    "np.round(ml_ready_df['Percentage_ICU_beds_used'],2)"
   ]
  },
  {
   "cell_type": "code",
   "execution_count": null,
   "id": "1dec8fbc",
   "metadata": {},
   "outputs": [],
   "source": [
    "s_df = ml_ready_df.sample(3500)"
   ]
  },
  {
   "cell_type": "code",
   "execution_count": null,
   "id": "c65fe76c",
   "metadata": {},
   "outputs": [],
   "source": [
    "# Create the model variables\n",
    "X = s_df.drop(['at_capacity'], axis=1)\n",
    "y = s_df['at_capacity']"
   ]
  },
  {
   "cell_type": "code",
   "execution_count": null,
   "id": "844d6335",
   "metadata": {},
   "outputs": [],
   "source": [
    "# Split, Test, and Train the dataset\n",
    "from sklearn.model_selection import train_test_split\n",
    "X_train, X_test, y_train, y_test = train_test_split(X,\n",
    "    y, random_state=42,stratify=y)"
   ]
  },
  {
   "cell_type": "code",
   "execution_count": null,
   "id": "45f03fd2",
   "metadata": {},
   "outputs": [],
   "source": [
    "# Create the logistic regression model\n",
    "from sklearn.linear_model import LogisticRegression\n",
    "classifier = LogisticRegression(solver='lbfgs', random_state=1)\n",
    "classifier"
   ]
  },
  {
   "cell_type": "code",
   "execution_count": null,
   "id": "8adff5dc",
   "metadata": {},
   "outputs": [],
   "source": [
    "# use fit() to train the logistic regression model\n",
    "classifier.fit(X_train, y_train)"
   ]
  },
  {
   "cell_type": "code",
   "execution_count": null,
   "id": "9553c369",
   "metadata": {},
   "outputs": [],
   "source": [
    "# Make predictions of the data\n",
    "predictions = classifier.predict(X_test)"
   ]
  },
  {
   "cell_type": "code",
   "execution_count": null,
   "id": "66bf5cf5",
   "metadata": {},
   "outputs": [],
   "source": [
    "# Get the accuracy score of the model\n",
    "from sklearn.metrics import accuracy_score\n",
    "accuracy_score(y_test, predictions)"
   ]
  },
  {
   "cell_type": "code",
   "execution_count": null,
   "id": "02164c67",
   "metadata": {},
   "outputs": [],
   "source": [
    "# Print the confusion matrix\n",
    "from sklearn.metrics import confusion_matrix, classification_report\n",
    "matrix = confusion_matrix(y_test, predictions)\n",
    "print(matrix)"
   ]
  },
  {
   "cell_type": "code",
   "execution_count": null,
   "id": "94610cd2",
   "metadata": {},
   "outputs": [],
   "source": [
    "# Get the classification report\n",
    "report = classification_report(y_test, predictions)\n",
    "print(report)"
   ]
  },
  {
   "cell_type": "markdown",
   "id": "7cad7a62",
   "metadata": {},
   "source": [
    "# Random OverSample"
   ]
  },
  {
   "cell_type": "code",
   "execution_count": null,
   "id": "c85b40dc",
   "metadata": {},
   "outputs": [],
   "source": [
    "from imblearn.over_sampling import RandomOverSampler\n",
    "ros = RandomOverSampler(random_state=42)\n",
    "X_resampled, y_resampled = ros.fit_resample(X_train, y_train)"
   ]
  },
  {
   "cell_type": "code",
   "execution_count": null,
   "id": "df743c23",
   "metadata": {},
   "outputs": [],
   "source": [
    "from collections import Counter\n",
    "Counter(y_resampled)"
   ]
  },
  {
   "cell_type": "code",
   "execution_count": null,
   "id": "68af3079",
   "metadata": {},
   "outputs": [],
   "source": [
    "# Rerun the model\n",
    "model = LogisticRegression(solver='lbfgs', random_state=42)\n",
    "\n",
    "model.fit(X_resampled, y_resampled)\n",
    "\n",
    "y_pred = model.predict(X_test)\n",
    "print(confusion_matrix(y_test, y_pred))\n",
    "\n",
    "from sklearn.metrics import balanced_accuracy_score\n",
    "print(balanced_accuracy_score(y_test, y_pred))"
   ]
  },
  {
   "cell_type": "code",
   "execution_count": null,
   "id": "2fc9b705",
   "metadata": {},
   "outputs": [],
   "source": [
    "from imblearn.metrics import classification_report_imbalanced\n",
    "print(classification_report_imbalanced(y_test, y_pred))"
   ]
  },
  {
   "cell_type": "markdown",
   "id": "6bc23347",
   "metadata": {},
   "source": [
    "# SMOTE Oversampling"
   ]
  },
  {
   "cell_type": "code",
   "execution_count": null,
   "id": "08eaa176",
   "metadata": {},
   "outputs": [],
   "source": [
    "from imblearn.over_sampling import SMOTE\n",
    "X_resampled, y_resampled = SMOTE(random_state=1,\n",
    "sampling_strategy='auto').fit_resample(\n",
    "   X_train, y_train)\n",
    "Counter(y_resampled)"
   ]
  },
  {
   "cell_type": "code",
   "execution_count": null,
   "id": "5afdfec5",
   "metadata": {},
   "outputs": [],
   "source": [
    "from sklearn.linear_model import LogisticRegression\n",
    "\n",
    "model = LogisticRegression(solver='lbfgs', random_state=1)\n",
    "model.fit(X_resampled, y_resampled)"
   ]
  },
  {
   "cell_type": "code",
   "execution_count": null,
   "id": "f5540cb6",
   "metadata": {},
   "outputs": [],
   "source": [
    "from sklearn.metrics import balanced_accuracy_score\n",
    "y_pred = model.predict(X_test)\n",
    "bed_capacity = balanced_accuracy_score(y_test, y_pred)\n",
    "bed_capacity"
   ]
  },
  {
   "cell_type": "code",
   "execution_count": null,
   "id": "14331839",
   "metadata": {},
   "outputs": [],
   "source": [
    "from sklearn.metrics import confusion_matrix, classification_report\n",
    "cm = confusion_matrix(y_test, y_pred)\n",
    "print(cm)\n",
    "\n",
    "# Create df for confusion matrix\n",
    "cm_df = pd.DataFrame(cm, index=[\"Actual full\", \"Actual spacious\"], columns=[\"Predicted full\", \"Predicted spacious\"])\n",
    "\n",
    "cm_df\n",
    "\n",
    "# Displaying results\n",
    "print(\"Confusion Matrix\")\n",
    "display(cm_df)\n",
    "print(f\"Accuracy Score : {bed_capacity}\")\n",
    "print(\"Classification Report\")\n",
    "print(classification_report(y_test, y_pred))"
   ]
  },
  {
   "cell_type": "code",
   "execution_count": null,
   "id": "fbd3bf52",
   "metadata": {},
   "outputs": [],
   "source": [
    "from imblearn.metrics import classification_report_imbalanced\n",
    "print(classification_report_imbalanced(y_test, y_pred))"
   ]
  },
  {
   "cell_type": "markdown",
   "id": "07d9654c",
   "metadata": {},
   "source": [
    "# K-Means "
   ]
  },
  {
   "cell_type": "code",
   "execution_count": null,
   "id": "ea510c8b",
   "metadata": {},
   "outputs": [],
   "source": [
    "# Initial imports\n",
    "import pandas as pd\n",
    "from sklearn.cluster import KMeans\n",
    "import plotly.express as px\n",
    "import hvplot.pandas"
   ]
  },
  {
   "cell_type": "code",
   "execution_count": null,
   "id": "28fe7591",
   "metadata": {},
   "outputs": [],
   "source": [
    "s_df = ml_ready_df.sample(7000)"
   ]
  },
  {
   "cell_type": "code",
   "execution_count": null,
   "id": "59236eb2",
   "metadata": {},
   "outputs": [],
   "source": [
    "s_df.hvplot.scatter(x=\"Completeness_pct\", y=\"Percentage_ICU_beds_used\")"
   ]
  },
  {
   "cell_type": "code",
   "execution_count": null,
   "id": "c44900ed",
   "metadata": {},
   "outputs": [],
   "source": [
    "# Function to cluster and plot dataset\n",
    "def test_cluster_amount(df, clusters):\n",
    "    model = KMeans(n_clusters=clusters, random_state=5)\n",
    "    model\n",
    "\n",
    "    # Fitting model\n",
    "    model.fit(df)\n",
    "\n",
    "    # Add a new class column to ml_ready_df\n",
    "    df[\"class\"] = model.labels_"
   ]
  },
  {
   "cell_type": "code",
   "execution_count": null,
   "id": "1d117f16",
   "metadata": {},
   "outputs": [],
   "source": [
    "test_cluster_amount(s_df, 4)\n",
    "s_df.hvplot.scatter(x=\"Completeness_pct\", y=\"Percentage_ICU_beds_used\", by=\"class\")"
   ]
  },
  {
   "cell_type": "code",
   "execution_count": null,
   "id": "90aea55e",
   "metadata": {},
   "outputs": [],
   "source": [
    "fig = px.scatter_3d(\n",
    "    s_df,\n",
    "    x=\"Completeness_pct\",\n",
    "    y=\"Percentage_ICU_beds_used\",\n",
    "    z=\"cases_to_date\",\n",
    "    color=\"class\",\n",
    "    symbol=\"class\",\n",
    "    width=800,\n",
    ")\n",
    "fig.update_layout(legend=dict(x=0, y=1))\n",
    "fig.show()"
   ]
  }
 ],
 "metadata": {
  "kernelspec": {
   "display_name": "mlenv",
   "language": "python",
   "name": "mlenv"
  },
  "language_info": {
   "codemirror_mode": {
    "name": "ipython",
    "version": 3
   },
   "file_extension": ".py",
   "mimetype": "text/x-python",
   "name": "python",
   "nbconvert_exporter": "python",
   "pygments_lexer": "ipython3",
   "version": "3.7.10"
  }
 },
 "nbformat": 4,
 "nbformat_minor": 5
}
