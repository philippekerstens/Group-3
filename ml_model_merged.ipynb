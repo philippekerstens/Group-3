{
 "cells": [
  {
   "cell_type": "code",
   "execution_count": null,
   "id": "bd70c971",
   "metadata": {},
   "outputs": [],
   "source": [
    "import requests\n",
    "import pandas as pd\n",
    "from bs4 import BeautifulSoup\n",
    "import requests\n",
    "import time\n",
    "import numpy as np"
   ]
  },
  {
   "cell_type": "code",
   "execution_count": null,
   "id": "682e604e",
   "metadata": {},
   "outputs": [],
   "source": [
    "# Create variables for each of the data files\n",
    "nyt_data = 'https://group3data.s3.us-west-2.amazonaws.com/us-counties.csv'\n",
    "hospital_data = 'https://group3data.s3.us-west-2.amazonaws.com/COVID-19_Reported_Patient_Impact_and_Hospital_Capacity_by_Facility.csv'\n",
    "vaccination_data = 'https://group3data.s3.us-west-2.amazonaws.com/COVID-19_Vaccinations_in_the_United_States_County.csv'\n",
    "merged_data = 'https://group3data.s3.us-west-2.amazonaws.com/merged_data.csv'"
   ]
  },
  {
   "cell_type": "code",
   "execution_count": null,
   "id": "9ac751e7",
   "metadata": {},
   "outputs": [],
   "source": [
    "# read in data from S3 bucket and create dataframes\n",
    "nyt_data_df = pd.read_csv(nyt_data)\n",
    "hospital_data_df = pd.read_csv(hospital_data)\n",
    "vaccination_data_df = pd.read_csv(vaccination_data)\n",
    "merged_data_df = pd.read_csv(merged_data)"
   ]
  },
  {
   "cell_type": "markdown",
   "id": "d584a4e1",
   "metadata": {},
   "source": [
    "Create the machine learning model"
   ]
  },
  {
   "cell_type": "code",
   "execution_count": null,
   "id": "c72a300b",
   "metadata": {},
   "outputs": [],
   "source": [
    "# Import additional dependecies for the model\n",
    "from pathlib import Path\n",
    "import matplotlib.pyplot as plt\n",
    "from sklearn.linear_model import LinearRegression"
   ]
  },
  {
   "cell_type": "code",
   "execution_count": null,
   "id": "c64d8b3d",
   "metadata": {},
   "outputs": [],
   "source": [
    "# Use a test data set that is binary to create the model\n",
    "# We will import our data into the model later\n",
    "from sklearn.datasets import make_blobs\n",
    "X, y = make_blobs(centers=2, random_state=42)"
   ]
  },
  {
   "cell_type": "code",
   "execution_count": null,
   "id": "931d2006",
   "metadata": {},
   "outputs": [],
   "source": [
    "# Plot the blobs to visualize the 2 data centers\n",
    "plt.scatter(X[:, 0], X[:, 1], c=y)"
   ]
  },
  {
   "cell_type": "code",
   "execution_count": null,
   "id": "d4a8d2ea",
   "metadata": {},
   "outputs": [],
   "source": [
    "# Split, test, and train the dataset\n",
    "from sklearn.model_selection import train_test_split\n",
    "X_train, X_test, y_train, y_test = train_test_split(X,\n",
    "    y, random_state=1, stratify=y)"
   ]
  },
  {
   "cell_type": "code",
   "execution_count": null,
   "id": "23bc02df",
   "metadata": {},
   "outputs": [],
   "source": [
    "# Create the logistic regression model\n",
    "from sklearn.linear_model import LogisticRegression\n",
    "classifier = LogisticRegression(solver='lbfgs', random_state=1)\n",
    "classifier"
   ]
  },
  {
   "cell_type": "code",
   "execution_count": null,
   "id": "0426e26f",
   "metadata": {},
   "outputs": [],
   "source": [
    "# use fit() to train the logistic regression model\n",
    "classifier.fit(X_train, y_train)"
   ]
  },
  {
   "cell_type": "code",
   "execution_count": null,
   "id": "01c7d077",
   "metadata": {},
   "outputs": [],
   "source": [
    "# Make predictions of the data\n",
    "predictions = classifier.predict(X_test)\n",
    "\n",
    "# Visualize the predictions in a easy to read dataframe\n",
    "pd.DataFrame({\"Prediction\": predictions, \"Actual\": y_test}).head()"
   ]
  },
  {
   "cell_type": "code",
   "execution_count": null,
   "id": "5b7cb490",
   "metadata": {},
   "outputs": [],
   "source": [
    "# Get the accuracy score of the model\n",
    "from sklearn.metrics import accuracy_score\n",
    "accuracy_score(y_test, predictions)"
   ]
  },
  {
   "cell_type": "code",
   "execution_count": null,
   "id": "620b1270",
   "metadata": {},
   "outputs": [],
   "source": [
    "# Now we want to through new data into the model to see what it would predict\n",
    "new_data = np.array([[-2, 6]])\n",
    "plt.scatter(X[:, 0], X[:, 1], c=y)\n",
    "plt.scatter(new_data[0, 0], new_data[0, 1], c=\"r\", marker=\"o\", s=100)\n",
    "plt.show()"
   ]
  },
  {
   "cell_type": "code",
   "execution_count": null,
   "id": "052174b5",
   "metadata": {},
   "outputs": [],
   "source": [
    "# pass the 'new_data' into the predict method of the classifier model that was instantiated earlier\n",
    "predictions = classifier.predict(new_data)\n",
    "print(\"Classes are either 0 (purple) or 1 (yellow)\")\n",
    "print(f\"The new point was classified as: {predictions}\")"
   ]
  },
  {
   "cell_type": "markdown",
   "id": "7b913698",
   "metadata": {},
   "source": [
    "Pass in the merged_data_df to the ML Model"
   ]
  },
  {
   "cell_type": "code",
   "execution_count": null,
   "id": "1da75df5",
   "metadata": {},
   "outputs": [],
   "source": [
    "merged_data_df['hospital_bed_usage'] = merged_data_df['all_adult_hospital_inpatient_bed_occupied_7_day_sum']/merged_data_df['inpatient_beds_7_day_sum']\n",
    "merged_data_df"
   ]
  },
  {
   "cell_type": "code",
   "execution_count": null,
   "id": "c0022eb8",
   "metadata": {},
   "outputs": [],
   "source": [
    "merged_data_df['hospital_bed_usage'].loc[merged_data_df['hospital_bed_usage'] < 0.85] = 0\n",
    "merged_data_df['hospital_bed_usage'].loc[merged_data_df['hospital_bed_usage'] >= 0.85] = 1\n",
    "merged_data_df"
   ]
  },
  {
   "cell_type": "code",
   "execution_count": null,
   "id": "8f233bc3",
   "metadata": {},
   "outputs": [],
   "source": [
    "# Get the counts for overloaded or not\n",
    "merged_data_df.dropna(inplace=True)\n",
    "ml_model_df = merged_data_df\n",
    "ml_model_df.drop(['fips_date', 'fips', 'date'], axis=1, inplace=True)\n",
    "merged_data_df['hospital_bed_usage'].value_counts()"
   ]
  },
  {
   "cell_type": "code",
   "execution_count": null,
   "id": "8df64797",
   "metadata": {},
   "outputs": [],
   "source": [
    "# Create the model variables\n",
    "X = ml_model_df.drop(['hospital_bed_usage'], axis=1)\n",
    "y = ml_model_df['hospital_bed_usage']"
   ]
  },
  {
   "cell_type": "code",
   "execution_count": null,
   "id": "b19def57",
   "metadata": {},
   "outputs": [],
   "source": [
    "# Split, Test, and Train the dataset\n",
    "X_train, X_test, y_train, y_test = train_test_split(X,\n",
    "    y, random_state=1, stratify=y)"
   ]
  },
  {
   "cell_type": "code",
   "execution_count": null,
   "id": "4ea0ab88",
   "metadata": {},
   "outputs": [],
   "source": [
    "# Create the logistic regression model\n",
    "from sklearn.linear_model import LogisticRegression\n",
    "classifier = LogisticRegression(solver='lbfgs', random_state=1)\n",
    "classifier"
   ]
  },
  {
   "cell_type": "code",
   "execution_count": null,
   "id": "efd2a109",
   "metadata": {},
   "outputs": [],
   "source": [
    "# use fit() to train the logistic regression model\n",
    "classifier.fit(X_train, y_train)"
   ]
  },
  {
   "cell_type": "code",
   "execution_count": null,
   "id": "a71a5b7b",
   "metadata": {},
   "outputs": [],
   "source": [
    "# Make predictions of the data\n",
    "predictions = classifier.predict(X_test)"
   ]
  },
  {
   "cell_type": "code",
   "execution_count": null,
   "id": "e9324231",
   "metadata": {},
   "outputs": [],
   "source": [
    "# Get the accuracy score of the model\n",
    "accuracy_score(y_test, predictions)"
   ]
  },
  {
   "cell_type": "code",
   "execution_count": null,
   "id": "222c9efc",
   "metadata": {},
   "outputs": [],
   "source": [
    "# Print the confusion matrix\n",
    "from sklearn.metrics import confusion_matrix, classification_report\n",
    "matrix = confusion_matrix(y_test, predictions)\n",
    "print(matrix)"
   ]
  },
  {
   "cell_type": "code",
   "execution_count": null,
   "id": "00aba8cd",
   "metadata": {},
   "outputs": [],
   "source": [
    "# Get the classification report\n",
    "report = classification_report(y_test, predictions)\n",
    "print(report)"
   ]
  },
  {
   "cell_type": "code",
   "execution_count": null,
   "id": "e0c1bd55",
   "metadata": {},
   "outputs": [],
   "source": [
    "from imblearn.over_sampling import RandomOverSampler\n",
    "ros = RandomOverSampler(random_state=1)\n",
    "X_resampled, y_resampled = ros.fit_resample(X_train, y_train)"
   ]
  },
  {
   "cell_type": "code",
   "execution_count": null,
   "id": "95b4b8b8",
   "metadata": {},
   "outputs": [],
   "source": [
    "from collections import Counter\n",
    "Counter(y_resampled)"
   ]
  },
  {
   "cell_type": "code",
   "execution_count": null,
   "id": "11c730e3",
   "metadata": {},
   "outputs": [],
   "source": [
    "# Rerun the model\n",
    "model = LogisticRegression(solver='lbfgs', random_state=1)\n",
    "\n",
    "model.fit(X_resampled, y_resampled)\n",
    "\n",
    "y_pred = model.predict(X_test)\n",
    "print(confusion_matrix(y_test, y_pred))\n",
    "\n",
    "from sklearn.metrics import balanced_accuracy_score\n",
    "print(balanced_accuracy_score(y_test, y_pred))"
   ]
  },
  {
   "cell_type": "code",
   "execution_count": null,
   "id": "788f1ec8",
   "metadata": {},
   "outputs": [],
   "source": [
    "from imblearn.metrics import classification_report_imbalanced\n",
    "print(classification_report_imbalanced(y_test, y_pred))"
   ]
  },
  {
   "cell_type": "markdown",
   "id": "14267f8f",
   "metadata": {},
   "source": [
    "SMOTE Oversampling"
   ]
  },
  {
   "cell_type": "code",
   "execution_count": null,
   "id": "dc7f907f",
   "metadata": {},
   "outputs": [],
   "source": [
    "from imblearn.over_sampling import SMOTE\n",
    "X_resampled, y_resampled = SMOTE(random_state=1,\n",
    "sampling_strategy='auto').fit_resample(\n",
    "   X_train, y_train)\n",
    "Counter(y_resampled)"
   ]
  },
  {
   "cell_type": "code",
   "execution_count": null,
   "id": "d96e4729",
   "metadata": {},
   "outputs": [],
   "source": [
    "from sklearn.linear_model import LogisticRegression\n",
    "\n",
    "model = LogisticRegression(solver='lbfgs', random_state=1)\n",
    "model.fit(X_resampled, y_resampled)"
   ]
  },
  {
   "cell_type": "code",
   "execution_count": null,
   "id": "1563982b",
   "metadata": {},
   "outputs": [],
   "source": [
    "from sklearn.metrics import balanced_accuracy_score\n",
    "y_pred = model.predict(X_test)\n",
    "bed_capacity = balanced_accuracy_score(y_test, y_pred)\n",
    "bed_capacity"
   ]
  },
  {
   "cell_type": "code",
   "execution_count": null,
   "id": "20dc5f2f",
   "metadata": {},
   "outputs": [],
   "source": [
    "from sklearn.metrics import confusion_matrix, classification_report\n",
    "cm = confusion_matrix(y_test, y_pred)\n",
    "print(cm)\n",
    "\n",
    "# Create df for confusion matrix\n",
    "cm_df = pd.DataFrame(cm, index=[\"Actual full\", \"Actual spacious\"], columns=[\"Predicted full\", \"Predicted spacious\"])\n",
    "\n",
    "cm_df\n",
    "\n",
    "# Displaying results\n",
    "print(\"Confusion Matrix\")\n",
    "display(cm_df)\n",
    "print(f\"Accuracy Score : {bed_capacity}\")\n",
    "print(\"Classification Report\")\n",
    "print(classification_report(y_test, y_pred))"
   ]
  },
  {
   "cell_type": "markdown",
   "id": "35e3a2bc",
   "metadata": {},
   "source": [
    "SMOTEENN"
   ]
  },
  {
   "cell_type": "code",
   "execution_count": null,
   "id": "ea1a72e7",
   "metadata": {},
   "outputs": [],
   "source": [
    "from imblearn.combine import SMOTEENN\n",
    "smote_enn = SMOTEENN(random_state=1)\n",
    "X_resampled, y_resampled = smote_enn.fit_resample(X, y)\n",
    "Counter(y_resampled)"
   ]
  },
  {
   "cell_type": "code",
   "execution_count": null,
   "id": "80381c73",
   "metadata": {},
   "outputs": [],
   "source": [
    "from sklearn.linear_model import LogisticRegression\n",
    "\n",
    "model = LogisticRegression(solver='lbfgs', random_state=1)\n",
    "model.fit(X_resampled, y_resampled)"
   ]
  },
  {
   "cell_type": "code",
   "execution_count": null,
   "id": "24bdb8fa",
   "metadata": {},
   "outputs": [],
   "source": [
    "from sklearn.metrics import balanced_accuracy_score\n",
    "y_pred = model.predict(X_test)\n",
    "bed_capacity = balanced_accuracy_score(y_test, y_pred)\n",
    "bed_capacity"
   ]
  },
  {
   "cell_type": "code",
   "execution_count": null,
   "id": "9a75c31a",
   "metadata": {},
   "outputs": [],
   "source": [
    "from sklearn.metrics import confusion_matrix, classification_report\n",
    "cm = confusion_matrix(y_test, y_pred)\n",
    "print(cm)\n",
    "\n",
    "# Create df for confusion matrix\n",
    "cm_df = pd.DataFrame(cm, index=[\"Actual full\", \"Actual spacious\"], columns=[\"Predicted full\", \"Predicted spacious\"])\n",
    "cm_df"
   ]
  },
  {
   "cell_type": "code",
   "execution_count": null,
   "id": "93ebc508",
   "metadata": {},
   "outputs": [],
   "source": []
  }
 ],
 "metadata": {
  "kernelspec": {
   "display_name": "mlenv",
   "language": "python",
   "name": "mlenv"
  },
  "language_info": {
   "codemirror_mode": {
    "name": "ipython",
    "version": 3
   },
   "file_extension": ".py",
   "mimetype": "text/x-python",
   "name": "python",
   "nbconvert_exporter": "python",
   "pygments_lexer": "ipython3",
   "version": "3.7.10"
  }
 },
 "nbformat": 4,
 "nbformat_minor": 5
}
